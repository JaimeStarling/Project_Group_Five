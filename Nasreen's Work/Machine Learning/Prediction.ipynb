{
 "cells": [
  {
   "cell_type": "code",
   "execution_count": 2,
   "id": "bd70bfc8",
   "metadata": {},
   "outputs": [],
   "source": [
    "import pandas as pd\n"
   ]
  },
  {
   "cell_type": "code",
   "execution_count": 3,
   "id": "a8fb4b8d",
   "metadata": {},
   "outputs": [
    {
     "data": {
      "text/plain": [
       "(14639, 22)"
      ]
     },
     "execution_count": 3,
     "metadata": {},
     "output_type": "execute_result"
    }
   ],
   "source": [
    "pred_tomatometer = pd.read_csv(\"prediction_tomatometer.csv\")\n",
    "pred_tomatometer.shape"
   ]
  },
  {
   "cell_type": "code",
   "execution_count": 4,
   "id": "24a9d099",
   "metadata": {},
   "outputs": [
    {
     "data": {
      "text/plain": [
       "(14639, 22)"
      ]
     },
     "execution_count": 4,
     "metadata": {},
     "output_type": "execute_result"
    }
   ],
   "source": [
    "pred_audience = pd.read_csv(\"prediction_audience.csv\")\n",
    "pred_audience.shape"
   ]
  },
  {
   "cell_type": "code",
   "execution_count": 5,
   "id": "a862ea63",
   "metadata": {},
   "outputs": [
    {
     "data": {
      "text/plain": [
       "Index(['movie_title', 'movie_info', 'content_rating', 'genres', 'directors',\n",
       "       'authors', 'actors', 'original_release_date', 'runtime',\n",
       "       'production_company', 'tomatometer_rating', 'audience_rating', 'year',\n",
       "       'month', 'len_title', 'len_movie_info', 'num_directors', 'num_authors',\n",
       "       'num_actors', 'num_genres', 'main_genre', 'pred_tomatometer_rating',\n",
       "       'pred_aud_rating'],\n",
       "      dtype='object')"
      ]
     },
     "execution_count": 5,
     "metadata": {},
     "output_type": "execute_result"
    }
   ],
   "source": [
    "all_preds = pred_tomatometer.copy()\n",
    "all_preds[\"pred_aud_rating\"] = pred_audience.pred_aud_rating\n",
    "all_preds.columns"
   ]
  },
  {
   "cell_type": "code",
   "execution_count": 6,
   "id": "9d5445cd",
   "metadata": {},
   "outputs": [
    {
     "data": {
      "text/html": [
       "<div>\n",
       "<style scoped>\n",
       "    .dataframe tbody tr th:only-of-type {\n",
       "        vertical-align: middle;\n",
       "    }\n",
       "\n",
       "    .dataframe tbody tr th {\n",
       "        vertical-align: top;\n",
       "    }\n",
       "\n",
       "    .dataframe thead th {\n",
       "        text-align: right;\n",
       "    }\n",
       "</style>\n",
       "<table border=\"1\" class=\"dataframe\">\n",
       "  <thead>\n",
       "    <tr style=\"text-align: right;\">\n",
       "      <th></th>\n",
       "      <th>movie_title</th>\n",
       "      <th>tomatometer_rating</th>\n",
       "      <th>audience_rating</th>\n",
       "      <th>pred_tomatometer_rating</th>\n",
       "      <th>pred_aud_rating</th>\n",
       "    </tr>\n",
       "  </thead>\n",
       "  <tbody>\n",
       "    <tr>\n",
       "      <th>0</th>\n",
       "      <td>Percy Jackson &amp; the Olympians: The Lightning T...</td>\n",
       "      <td>49.0</td>\n",
       "      <td>53.0</td>\n",
       "      <td>56.555671</td>\n",
       "      <td>67.412158</td>\n",
       "    </tr>\n",
       "    <tr>\n",
       "      <th>1</th>\n",
       "      <td>Please Give</td>\n",
       "      <td>87.0</td>\n",
       "      <td>64.0</td>\n",
       "      <td>47.565039</td>\n",
       "      <td>53.921476</td>\n",
       "    </tr>\n",
       "    <tr>\n",
       "      <th>2</th>\n",
       "      <td>10</td>\n",
       "      <td>67.0</td>\n",
       "      <td>53.0</td>\n",
       "      <td>49.614574</td>\n",
       "      <td>58.075423</td>\n",
       "    </tr>\n",
       "    <tr>\n",
       "      <th>3</th>\n",
       "      <td>12 Angry Men (Twelve Angry Men)</td>\n",
       "      <td>100.0</td>\n",
       "      <td>97.0</td>\n",
       "      <td>80.741472</td>\n",
       "      <td>70.288125</td>\n",
       "    </tr>\n",
       "    <tr>\n",
       "      <th>4</th>\n",
       "      <td>20,000 Leagues Under The Sea</td>\n",
       "      <td>89.0</td>\n",
       "      <td>74.0</td>\n",
       "      <td>68.127017</td>\n",
       "      <td>70.556199</td>\n",
       "    </tr>\n",
       "  </tbody>\n",
       "</table>\n",
       "</div>"
      ],
      "text/plain": [
       "                                         movie_title  tomatometer_rating  \\\n",
       "0  Percy Jackson & the Olympians: The Lightning T...                49.0   \n",
       "1                                        Please Give                87.0   \n",
       "2                                                 10                67.0   \n",
       "3                    12 Angry Men (Twelve Angry Men)               100.0   \n",
       "4                       20,000 Leagues Under The Sea                89.0   \n",
       "\n",
       "   audience_rating  pred_tomatometer_rating  pred_aud_rating  \n",
       "0             53.0                56.555671        67.412158  \n",
       "1             64.0                47.565039        53.921476  \n",
       "2             53.0                49.614574        58.075423  \n",
       "3             97.0                80.741472        70.288125  \n",
       "4             74.0                68.127017        70.556199  "
      ]
     },
     "execution_count": 6,
     "metadata": {},
     "output_type": "execute_result"
    }
   ],
   "source": [
    "all_preds.loc[:,[\"movie_title\",'tomatometer_rating', 'audience_rating','pred_tomatometer_rating',\n",
    "       'pred_aud_rating']].head()"
   ]
  },
  {
   "cell_type": "code",
   "execution_count": 7,
   "id": "813a910b",
   "metadata": {},
   "outputs": [],
   "source": [
    "all_preds.to_csv(\"Prediction_website.csv\",index=False)"
   ]
  },
  {
   "cell_type": "code",
   "execution_count": null,
   "id": "93b9853a",
   "metadata": {},
   "outputs": [],
   "source": []
  }
 ],
 "metadata": {
  "kernelspec": {
   "display_name": "mlenv",
   "language": "python",
   "name": "mlenv"
  },
  "language_info": {
   "codemirror_mode": {
    "name": "ipython",
    "version": 3
   },
   "file_extension": ".py",
   "mimetype": "text/x-python",
   "name": "python",
   "nbconvert_exporter": "python",
   "pygments_lexer": "ipython3",
   "version": "3.7.13"
  }
 },
 "nbformat": 4,
 "nbformat_minor": 5
}
