{
 "cells": [
  {
   "cell_type": "code",
   "execution_count": 1,
   "id": "f02961a6",
   "metadata": {},
   "outputs": [],
   "source": [
    "# generic data science libraries\n",
    "import pandas as pd\n",
    "pd.set_option('display.max_columns', None)\n",
    "import numpy as np\n",
    "\n",
    "# data visualization\n",
    "import matplotlib.pyplot as plt\n",
    "import seaborn as sns\n"
   ]
  },
  {
   "cell_type": "code",
   "execution_count": 2,
   "id": "4a9f38f7",
   "metadata": {},
   "outputs": [],
   "source": [
    "# pandas display options\n",
    "pd.set_option('display.max_columns', None)\n",
    "pd.set_option(\"display.max_colwidth\", None)\n",
    "pd.set_option(\"display.max_rows\", None)"
   ]
  },
  {
   "cell_type": "markdown",
   "id": "625323dd",
   "metadata": {},
   "source": [
    "# Gather data and Data Cleaning"
   ]
  },
  {
   "cell_type": "code",
   "execution_count": 3,
   "id": "6e3fdd7a",
   "metadata": {},
   "outputs": [],
   "source": [
    "#Input Mojo_budget_updata.csv file\n",
    "mojo_upd_df = pd.read_csv('Resources/Mojo_budget_update.csv')"
   ]
  },
  {
   "cell_type": "code",
   "execution_count": 4,
   "id": "86a7b7b3",
   "metadata": {},
   "outputs": [
    {
     "name": "stdout",
     "output_type": "stream",
     "text": [
      "<class 'pandas.core.frame.DataFrame'>\n",
      "RangeIndex: 3243 entries, 0 to 3242\n",
      "Data columns (total 26 columns):\n",
      " #   Column           Non-Null Count  Dtype  \n",
      "---  ------           --------------  -----  \n",
      " 0   movie_id         3243 non-null   object \n",
      " 1   title            3243 non-null   object \n",
      " 2   year             3243 non-null   int64  \n",
      " 3   trivia           3243 non-null   object \n",
      " 4   mpaa             3082 non-null   object \n",
      " 5   release_date     3242 non-null   object \n",
      " 6   run_time         3243 non-null   object \n",
      " 7   distributor      3228 non-null   object \n",
      " 8   director         3243 non-null   object \n",
      " 9   writer           3234 non-null   object \n",
      " 10  producer         3230 non-null   object \n",
      " 11  composer         3138 non-null   object \n",
      " 12  cinematographer  3129 non-null   object \n",
      " 13  main_actor_1     3243 non-null   object \n",
      " 14  main_actor_2     3243 non-null   object \n",
      " 15  main_actor_3     3243 non-null   object \n",
      " 16  main_actor_4     3240 non-null   object \n",
      " 17  budget           3243 non-null   float64\n",
      " 18  domestic         3224 non-null   float64\n",
      " 19  international    2833 non-null   float64\n",
      " 20  worldwide        3236 non-null   float64\n",
      " 21  genre_1          3243 non-null   object \n",
      " 22  genre_2          2962 non-null   object \n",
      " 23  genre_3          2221 non-null   object \n",
      " 24  genre_4          1123 non-null   object \n",
      " 25  html             3243 non-null   object \n",
      "dtypes: float64(4), int64(1), object(21)\n",
      "memory usage: 658.9+ KB\n"
     ]
    }
   ],
   "source": [
    "#Information about the data\n",
    "mojo_upd_df.info()"
   ]
  },
  {
   "cell_type": "code",
   "execution_count": 5,
   "id": "b06bd73a",
   "metadata": {},
   "outputs": [],
   "source": [
    "mojo_upd_df = mojo_upd_df.loc[pd.notnull(mojo_upd_df[\"release_date\"])].reset_index(drop=True)\n"
   ]
  },
  {
   "cell_type": "code",
   "execution_count": 6,
   "id": "ffe4a9f6",
   "metadata": {},
   "outputs": [],
   "source": [
    "mojo_upd_df = mojo_upd_df.loc[pd.notnull(mojo_upd_df[\"mpaa\"])].reset_index(drop=True)"
   ]
  },
  {
   "cell_type": "code",
   "execution_count": 7,
   "id": "f409a0c8",
   "metadata": {
    "scrolled": true
   },
   "outputs": [],
   "source": [
    "mojo_upd_df = mojo_upd_df.drop([\"distributor\",\"writer\",\"producer\",\"composer\",\"cinematographer\",\"international\",\"worldwide\",\"genre_2\",\"genre_3\",\"genre_4\",\"trivia\",\"html\"],axis=1)\n"
   ]
  },
  {
   "cell_type": "code",
   "execution_count": 8,
   "id": "fc9dd25c",
   "metadata": {},
   "outputs": [
    {
     "name": "stdout",
     "output_type": "stream",
     "text": [
      "<class 'pandas.core.frame.DataFrame'>\n",
      "RangeIndex: 3081 entries, 0 to 3080\n",
      "Data columns (total 14 columns):\n",
      " #   Column        Non-Null Count  Dtype  \n",
      "---  ------        --------------  -----  \n",
      " 0   movie_id      3081 non-null   object \n",
      " 1   title         3081 non-null   object \n",
      " 2   year          3081 non-null   int64  \n",
      " 3   mpaa          3081 non-null   object \n",
      " 4   release_date  3081 non-null   object \n",
      " 5   run_time      3081 non-null   object \n",
      " 6   director      3081 non-null   object \n",
      " 7   main_actor_1  3081 non-null   object \n",
      " 8   main_actor_2  3081 non-null   object \n",
      " 9   main_actor_3  3081 non-null   object \n",
      " 10  main_actor_4  3079 non-null   object \n",
      " 11  budget        3081 non-null   float64\n",
      " 12  domestic      3070 non-null   float64\n",
      " 13  genre_1       3081 non-null   object \n",
      "dtypes: float64(2), int64(1), object(11)\n",
      "memory usage: 337.1+ KB\n"
     ]
    }
   ],
   "source": [
    "mojo_upd_df.info()"
   ]
  },
  {
   "cell_type": "code",
   "execution_count": 9,
   "id": "777ade61",
   "metadata": {},
   "outputs": [],
   "source": [
    "mojo_upd_df = mojo_upd_df.loc[pd.notnull(mojo_upd_df[\"domestic\"])].reset_index(drop=True)"
   ]
  },
  {
   "cell_type": "code",
   "execution_count": 10,
   "id": "7cfc6cfd",
   "metadata": {},
   "outputs": [],
   "source": [
    "mojo_upd_df = mojo_upd_df.loc[pd.notnull(mojo_upd_df[\"main_actor_4\"])].reset_index(drop=True)"
   ]
  },
  {
   "cell_type": "code",
   "execution_count": 11,
   "id": "cd29aa1e",
   "metadata": {},
   "outputs": [
    {
     "name": "stdout",
     "output_type": "stream",
     "text": [
      "<class 'pandas.core.frame.DataFrame'>\n",
      "RangeIndex: 3068 entries, 0 to 3067\n",
      "Data columns (total 14 columns):\n",
      " #   Column        Non-Null Count  Dtype  \n",
      "---  ------        --------------  -----  \n",
      " 0   movie_id      3068 non-null   object \n",
      " 1   title         3068 non-null   object \n",
      " 2   year          3068 non-null   int64  \n",
      " 3   mpaa          3068 non-null   object \n",
      " 4   release_date  3068 non-null   object \n",
      " 5   run_time      3068 non-null   object \n",
      " 6   director      3068 non-null   object \n",
      " 7   main_actor_1  3068 non-null   object \n",
      " 8   main_actor_2  3068 non-null   object \n",
      " 9   main_actor_3  3068 non-null   object \n",
      " 10  main_actor_4  3068 non-null   object \n",
      " 11  budget        3068 non-null   float64\n",
      " 12  domestic      3068 non-null   float64\n",
      " 13  genre_1       3068 non-null   object \n",
      "dtypes: float64(2), int64(1), object(11)\n",
      "memory usage: 335.7+ KB\n"
     ]
    }
   ],
   "source": [
    "mojo_upd_df.info()"
   ]
  },
  {
   "cell_type": "code",
   "execution_count": 12,
   "id": "e836ce8a",
   "metadata": {},
   "outputs": [
    {
     "data": {
      "text/html": [
       "<div>\n",
       "<style scoped>\n",
       "    .dataframe tbody tr th:only-of-type {\n",
       "        vertical-align: middle;\n",
       "    }\n",
       "\n",
       "    .dataframe tbody tr th {\n",
       "        vertical-align: top;\n",
       "    }\n",
       "\n",
       "    .dataframe thead th {\n",
       "        text-align: right;\n",
       "    }\n",
       "</style>\n",
       "<table border=\"1\" class=\"dataframe\">\n",
       "  <thead>\n",
       "    <tr style=\"text-align: right;\">\n",
       "      <th></th>\n",
       "      <th>movie_id</th>\n",
       "      <th>title</th>\n",
       "      <th>year</th>\n",
       "      <th>mpaa</th>\n",
       "      <th>release_date</th>\n",
       "      <th>run_time</th>\n",
       "      <th>director</th>\n",
       "      <th>main_actor_1</th>\n",
       "      <th>main_actor_2</th>\n",
       "      <th>main_actor_3</th>\n",
       "      <th>main_actor_4</th>\n",
       "      <th>budget</th>\n",
       "      <th>domestic</th>\n",
       "      <th>genre_1</th>\n",
       "    </tr>\n",
       "  </thead>\n",
       "  <tbody>\n",
       "    <tr>\n",
       "      <th>0</th>\n",
       "      <td>tt0099165</td>\n",
       "      <td>The Bonfire of the Vanities</td>\n",
       "      <td>1990</td>\n",
       "      <td>R</td>\n",
       "      <td>December 22</td>\n",
       "      <td>2 hr 5 min</td>\n",
       "      <td>Brian De Palma</td>\n",
       "      <td>Tom Hanks</td>\n",
       "      <td>Bruce Willis</td>\n",
       "      <td>Melanie Griffith</td>\n",
       "      <td>Kim Cattrall</td>\n",
       "      <td>47000000.0</td>\n",
       "      <td>15691192.0</td>\n",
       "      <td>Comedy</td>\n",
       "    </tr>\n",
       "    <tr>\n",
       "      <th>1</th>\n",
       "      <td>tt0099611</td>\n",
       "      <td>Frankenhooker</td>\n",
       "      <td>1990</td>\n",
       "      <td>R</td>\n",
       "      <td>June 1</td>\n",
       "      <td>1 hr 25 min</td>\n",
       "      <td>Frank Henenlotter</td>\n",
       "      <td>James Lorinz</td>\n",
       "      <td>Joanne Ritchie</td>\n",
       "      <td>Patty Mullen</td>\n",
       "      <td>J.J. Clark</td>\n",
       "      <td>2500000.0</td>\n",
       "      <td>205068.0</td>\n",
       "      <td>Comedy</td>\n",
       "    </tr>\n",
       "    <tr>\n",
       "      <th>2</th>\n",
       "      <td>tt0099674</td>\n",
       "      <td>The Godfather: Part III</td>\n",
       "      <td>1990</td>\n",
       "      <td>R</td>\n",
       "      <td>December 25</td>\n",
       "      <td>2 hr 42 min</td>\n",
       "      <td>Francis Ford Coppola</td>\n",
       "      <td>Al Pacino</td>\n",
       "      <td>Diane Keaton</td>\n",
       "      <td>Andy Garcia</td>\n",
       "      <td>Talia Shire</td>\n",
       "      <td>54000000.0</td>\n",
       "      <td>66666062.0</td>\n",
       "      <td>Crime</td>\n",
       "    </tr>\n",
       "    <tr>\n",
       "      <th>3</th>\n",
       "      <td>tt0099747</td>\n",
       "      <td>Havana</td>\n",
       "      <td>1990</td>\n",
       "      <td>R</td>\n",
       "      <td>December 14</td>\n",
       "      <td>2 hr 24 min</td>\n",
       "      <td>Sydney Pollack</td>\n",
       "      <td>Robert Redford</td>\n",
       "      <td>Lena Olin</td>\n",
       "      <td>Alan Arkin</td>\n",
       "      <td>Tomas Milian</td>\n",
       "      <td>40000000.0</td>\n",
       "      <td>9243140.0</td>\n",
       "      <td>Drama</td>\n",
       "    </tr>\n",
       "    <tr>\n",
       "      <th>4</th>\n",
       "      <td>tt0100029</td>\n",
       "      <td>Lionheart</td>\n",
       "      <td>1990</td>\n",
       "      <td>R</td>\n",
       "      <td>January 11</td>\n",
       "      <td>1 hr 48 min</td>\n",
       "      <td>Sheldon Lettich</td>\n",
       "      <td>Jean-Claude Van Damme</td>\n",
       "      <td>Harrison Page</td>\n",
       "      <td>Deborah Rennard</td>\n",
       "      <td>Lisa Pelikan</td>\n",
       "      <td>6000000.0</td>\n",
       "      <td>24078196.0</td>\n",
       "      <td>Action</td>\n",
       "    </tr>\n",
       "  </tbody>\n",
       "</table>\n",
       "</div>"
      ],
      "text/plain": [
       "    movie_id                        title  year mpaa release_date  \\\n",
       "0  tt0099165  The Bonfire of the Vanities  1990    R  December 22   \n",
       "1  tt0099611                Frankenhooker  1990    R       June 1   \n",
       "2  tt0099674      The Godfather: Part III  1990    R  December 25   \n",
       "3  tt0099747                       Havana  1990    R  December 14   \n",
       "4  tt0100029                    Lionheart  1990    R   January 11   \n",
       "\n",
       "      run_time              director           main_actor_1    main_actor_2  \\\n",
       "0   2 hr 5 min        Brian De Palma              Tom Hanks    Bruce Willis   \n",
       "1  1 hr 25 min     Frank Henenlotter           James Lorinz  Joanne Ritchie   \n",
       "2  2 hr 42 min  Francis Ford Coppola              Al Pacino    Diane Keaton   \n",
       "3  2 hr 24 min        Sydney Pollack         Robert Redford       Lena Olin   \n",
       "4  1 hr 48 min       Sheldon Lettich  Jean-Claude Van Damme   Harrison Page   \n",
       "\n",
       "       main_actor_3  main_actor_4      budget    domestic genre_1  \n",
       "0  Melanie Griffith  Kim Cattrall  47000000.0  15691192.0  Comedy  \n",
       "1      Patty Mullen    J.J. Clark   2500000.0    205068.0  Comedy  \n",
       "2       Andy Garcia   Talia Shire  54000000.0  66666062.0   Crime  \n",
       "3        Alan Arkin  Tomas Milian  40000000.0   9243140.0   Drama  \n",
       "4   Deborah Rennard  Lisa Pelikan   6000000.0  24078196.0  Action  "
      ]
     },
     "execution_count": 12,
     "metadata": {},
     "output_type": "execute_result"
    }
   ],
   "source": [
    "mojo_upd_df.head()"
   ]
  },
  {
   "cell_type": "code",
   "execution_count": 13,
   "id": "58cc0eaa",
   "metadata": {},
   "outputs": [
    {
     "data": {
      "text/plain": [
       "Index(['movie_id', 'title', 'year', 'mpaa', 'release_date', 'run_time',\n",
       "       'director', 'main_actor_1', 'main_actor_2', 'main_actor_3',\n",
       "       'main_actor_4', 'budget', 'domestic', 'genre_1'],\n",
       "      dtype='object')"
      ]
     },
     "execution_count": 13,
     "metadata": {},
     "output_type": "execute_result"
    }
   ],
   "source": [
    "mojo_upd_df.columns\n"
   ]
  },
  {
   "cell_type": "code",
   "execution_count": 14,
   "id": "b4643304",
   "metadata": {
    "scrolled": true
   },
   "outputs": [
    {
     "data": {
      "text/plain": [
       "1 hr 41 min    92\n",
       "1 hr 30 min    87\n",
       "1 hr 40 min    81\n",
       "1 hr 38 min    80\n",
       "1 hr 49 min    79\n",
       "1 hr 46 min    77\n",
       "1 hr 37 min    77\n",
       "1 hr 35 min    75\n",
       "1 hr 44 min    75\n",
       "1 hr 39 min    75\n",
       "1 hr 45 min    73\n",
       "1 hr 47 min    72\n",
       "1 hr 36 min    72\n",
       "1 hr 48 min    66\n",
       "1 hr 42 min    65\n",
       "1 hr 34 min    65\n",
       "1 hr 31 min    64\n",
       "1 hr 32 min    64\n",
       "1 hr 33 min    62\n",
       "1 hr 50 min    60\n",
       "1 hr 29 min    57\n",
       "1 hr 58 min    57\n",
       "1 hr 43 min    56\n",
       "1 hr 56 min    56\n",
       "1 hr 28 min    56\n",
       "1 hr 53 min    56\n",
       "1 hr 55 min    54\n",
       "1 hr 57 min    51\n",
       "1 hr 52 min    50\n",
       "1 hr 51 min    50\n",
       "2 hr 4 min     50\n",
       "2 hr 3 min     45\n",
       "1 hr 59 min    44\n",
       "2 hr 2 min     43\n",
       "1 hr 26 min    43\n",
       "2 hr           42\n",
       "1 hr 54 min    40\n",
       "1 hr 27 min    40\n",
       "2 hr 1 min     37\n",
       "2 hr 8 min     35\n",
       "2 hr 5 min     33\n",
       "2 hr 10 min    32\n",
       "2 hr 7 min     29\n",
       "1 hr 24 min    27\n",
       "2 hr 12 min    26\n",
       "2 hr 9 min     25\n",
       "2 hr 15 min    25\n",
       "1 hr 25 min    25\n",
       "2 hr 6 min     24\n",
       "2 hr 11 min    24\n",
       "1 hr 23 min    22\n",
       "2 hr 13 min    21\n",
       "1 hr 21 min    20\n",
       "2 hr 16 min    18\n",
       "2 hr 14 min    18\n",
       "2 hr 18 min    18\n",
       "2 hr 17 min    16\n",
       "2 hr 20 min    16\n",
       "2 hr 19 min    16\n",
       "2 hr 24 min    13\n",
       "2 hr 21 min    12\n",
       "2 hr 23 min    12\n",
       "1 hr 22 min    10\n",
       "2 hr 22 min     9\n",
       "2 hr 26 min     9\n",
       "2 hr 25 min     8\n",
       "2 hr 32 min     8\n",
       "2 hr 34 min     8\n",
       "1 hr 20 min     7\n",
       "2 hr 37 min     7\n",
       "2 hr 30 min     7\n",
       "2 hr 45 min     5\n",
       "2 hr 27 min     5\n",
       "2 hr 38 min     5\n",
       "2 hr 35 min     5\n",
       "2 hr 42 min     5\n",
       "2 hr 58 min     4\n",
       "2 hr 31 min     4\n",
       "2 hr 28 min     4\n",
       "2 hr 49 min     4\n",
       "2 hr 29 min     4\n",
       "1 hr 16 min     3\n",
       "1 hr 17 min     3\n",
       "2 hr 33 min     3\n",
       "1 hr 13 min     3\n",
       "2 hr 44 min     3\n",
       "1 hr 19 min     3\n",
       "2 hr 40 min     2\n",
       "2 hr 50 min     2\n",
       "3 hr 11 min     2\n",
       "3 hr            2\n",
       "2 hr 41 min     2\n",
       "2 hr 48 min     1\n",
       "2 hr 36 min     1\n",
       "1 hr 8 min      1\n",
       "2 hr 43 min     1\n",
       "2 hr 55 min     1\n",
       "2 hr 46 min     1\n",
       "1 hr 12 min     1\n",
       "3 hr 7 min      1\n",
       "3 hr 9 min      1\n",
       "3 hr 39 min     1\n",
       "2 hr 47 min     1\n",
       "3 hr 15 min     1\n",
       "1 hr 11 min     1\n",
       "3 hr 12 min     1\n",
       "4 hr 2 min      1\n",
       "1 hr 15 min     1\n",
       "2 hr 57 min     1\n",
       "3 hr 14 min     1\n",
       "2 hr 52 min     1\n",
       "2 hr 39 min     1\n",
       "1 hr 18 min     1\n",
       "1 hr 9 min      1\n",
       "3 hr 21 min     1\n",
       "2 hr 59 min     1\n",
       "3 hr 8 min      1\n",
       "3 hr 3 min      1\n",
       "3 hr 1 min      1\n",
       "Name: run_time, dtype: int64"
      ]
     },
     "execution_count": 14,
     "metadata": {},
     "output_type": "execute_result"
    }
   ],
   "source": [
    "mojo_upd_df.run_time.value_counts()"
   ]
  },
  {
   "cell_type": "code",
   "execution_count": 15,
   "id": "68e54a07",
   "metadata": {},
   "outputs": [],
   "source": [
    "#Convert run_time in to minutes\n",
    "times = []\n",
    "\n",
    "for index,row in mojo_upd_df.iterrows():\n",
    "    vals = row.run_time.split(\" \")\n",
    "    if len(vals)>2:\n",
    "        run_time = int(vals[0])*60 + int(vals[2])    \n",
    "    else:\n",
    "        run_time = int(vals[0])*60\n",
    "    times.append(run_time)\n",
    "\n",
    "mojo_upd_df[\"runtime_conv\"] = times    "
   ]
  },
  {
   "cell_type": "code",
   "execution_count": 16,
   "id": "c73b07c0",
   "metadata": {},
   "outputs": [
    {
     "data": {
      "text/plain": [
       "genre_1\n",
       "Action         112.985393\n",
       "Adventure      103.168459\n",
       "Animation       88.545455\n",
       "Biography      123.445714\n",
       "Comedy         102.736330\n",
       "Crime          113.814433\n",
       "Documentary     97.857143\n",
       "Drama          115.224280\n",
       "Family         118.000000\n",
       "Fantasy        103.500000\n",
       "Horror          97.880503\n",
       "Music           93.000000\n",
       "Mystery        118.222222\n",
       "Romance        106.000000\n",
       "Sci-Fi          96.333333\n",
       "Name: runtime_conv, dtype: float64"
      ]
     },
     "execution_count": 16,
     "metadata": {},
     "output_type": "execute_result"
    }
   ],
   "source": [
    "mojo_upd_df.groupby(\"genre_1\").runtime_conv.mean()"
   ]
  },
  {
   "cell_type": "code",
   "execution_count": 17,
   "id": "dd6937c5",
   "metadata": {},
   "outputs": [
    {
     "data": {
      "text/html": [
       "<div>\n",
       "<style scoped>\n",
       "    .dataframe tbody tr th:only-of-type {\n",
       "        vertical-align: middle;\n",
       "    }\n",
       "\n",
       "    .dataframe tbody tr th {\n",
       "        vertical-align: top;\n",
       "    }\n",
       "\n",
       "    .dataframe thead th {\n",
       "        text-align: right;\n",
       "    }\n",
       "</style>\n",
       "<table border=\"1\" class=\"dataframe\">\n",
       "  <thead>\n",
       "    <tr style=\"text-align: right;\">\n",
       "      <th></th>\n",
       "      <th>movie_id</th>\n",
       "      <th>title</th>\n",
       "      <th>year</th>\n",
       "      <th>mpaa</th>\n",
       "      <th>release_date</th>\n",
       "      <th>run_time</th>\n",
       "      <th>director</th>\n",
       "      <th>main_actor_1</th>\n",
       "      <th>main_actor_2</th>\n",
       "      <th>main_actor_3</th>\n",
       "      <th>main_actor_4</th>\n",
       "      <th>budget</th>\n",
       "      <th>domestic</th>\n",
       "      <th>genre_1</th>\n",
       "      <th>runtime_conv</th>\n",
       "      <th>full_date</th>\n",
       "    </tr>\n",
       "  </thead>\n",
       "  <tbody>\n",
       "    <tr>\n",
       "      <th>0</th>\n",
       "      <td>tt0099165</td>\n",
       "      <td>The Bonfire of the Vanities</td>\n",
       "      <td>1990</td>\n",
       "      <td>R</td>\n",
       "      <td>December 22</td>\n",
       "      <td>2 hr 5 min</td>\n",
       "      <td>Brian De Palma</td>\n",
       "      <td>Tom Hanks</td>\n",
       "      <td>Bruce Willis</td>\n",
       "      <td>Melanie Griffith</td>\n",
       "      <td>Kim Cattrall</td>\n",
       "      <td>47000000.0</td>\n",
       "      <td>15691192.0</td>\n",
       "      <td>Comedy</td>\n",
       "      <td>125</td>\n",
       "      <td>1990-12-22</td>\n",
       "    </tr>\n",
       "    <tr>\n",
       "      <th>1</th>\n",
       "      <td>tt0099611</td>\n",
       "      <td>Frankenhooker</td>\n",
       "      <td>1990</td>\n",
       "      <td>R</td>\n",
       "      <td>June 1</td>\n",
       "      <td>1 hr 25 min</td>\n",
       "      <td>Frank Henenlotter</td>\n",
       "      <td>James Lorinz</td>\n",
       "      <td>Joanne Ritchie</td>\n",
       "      <td>Patty Mullen</td>\n",
       "      <td>J.J. Clark</td>\n",
       "      <td>2500000.0</td>\n",
       "      <td>205068.0</td>\n",
       "      <td>Comedy</td>\n",
       "      <td>85</td>\n",
       "      <td>1990-06-01</td>\n",
       "    </tr>\n",
       "    <tr>\n",
       "      <th>2</th>\n",
       "      <td>tt0099674</td>\n",
       "      <td>The Godfather: Part III</td>\n",
       "      <td>1990</td>\n",
       "      <td>R</td>\n",
       "      <td>December 25</td>\n",
       "      <td>2 hr 42 min</td>\n",
       "      <td>Francis Ford Coppola</td>\n",
       "      <td>Al Pacino</td>\n",
       "      <td>Diane Keaton</td>\n",
       "      <td>Andy Garcia</td>\n",
       "      <td>Talia Shire</td>\n",
       "      <td>54000000.0</td>\n",
       "      <td>66666062.0</td>\n",
       "      <td>Crime</td>\n",
       "      <td>162</td>\n",
       "      <td>1990-12-25</td>\n",
       "    </tr>\n",
       "    <tr>\n",
       "      <th>3</th>\n",
       "      <td>tt0099747</td>\n",
       "      <td>Havana</td>\n",
       "      <td>1990</td>\n",
       "      <td>R</td>\n",
       "      <td>December 14</td>\n",
       "      <td>2 hr 24 min</td>\n",
       "      <td>Sydney Pollack</td>\n",
       "      <td>Robert Redford</td>\n",
       "      <td>Lena Olin</td>\n",
       "      <td>Alan Arkin</td>\n",
       "      <td>Tomas Milian</td>\n",
       "      <td>40000000.0</td>\n",
       "      <td>9243140.0</td>\n",
       "      <td>Drama</td>\n",
       "      <td>144</td>\n",
       "      <td>1990-12-14</td>\n",
       "    </tr>\n",
       "    <tr>\n",
       "      <th>4</th>\n",
       "      <td>tt0100029</td>\n",
       "      <td>Lionheart</td>\n",
       "      <td>1990</td>\n",
       "      <td>R</td>\n",
       "      <td>January 11</td>\n",
       "      <td>1 hr 48 min</td>\n",
       "      <td>Sheldon Lettich</td>\n",
       "      <td>Jean-Claude Van Damme</td>\n",
       "      <td>Harrison Page</td>\n",
       "      <td>Deborah Rennard</td>\n",
       "      <td>Lisa Pelikan</td>\n",
       "      <td>6000000.0</td>\n",
       "      <td>24078196.0</td>\n",
       "      <td>Action</td>\n",
       "      <td>108</td>\n",
       "      <td>1990-01-11</td>\n",
       "    </tr>\n",
       "  </tbody>\n",
       "</table>\n",
       "</div>"
      ],
      "text/plain": [
       "    movie_id                        title  year mpaa release_date  \\\n",
       "0  tt0099165  The Bonfire of the Vanities  1990    R  December 22   \n",
       "1  tt0099611                Frankenhooker  1990    R       June 1   \n",
       "2  tt0099674      The Godfather: Part III  1990    R  December 25   \n",
       "3  tt0099747                       Havana  1990    R  December 14   \n",
       "4  tt0100029                    Lionheart  1990    R   January 11   \n",
       "\n",
       "      run_time              director           main_actor_1    main_actor_2  \\\n",
       "0   2 hr 5 min        Brian De Palma              Tom Hanks    Bruce Willis   \n",
       "1  1 hr 25 min     Frank Henenlotter           James Lorinz  Joanne Ritchie   \n",
       "2  2 hr 42 min  Francis Ford Coppola              Al Pacino    Diane Keaton   \n",
       "3  2 hr 24 min        Sydney Pollack         Robert Redford       Lena Olin   \n",
       "4  1 hr 48 min       Sheldon Lettich  Jean-Claude Van Damme   Harrison Page   \n",
       "\n",
       "       main_actor_3  main_actor_4      budget    domestic genre_1  \\\n",
       "0  Melanie Griffith  Kim Cattrall  47000000.0  15691192.0  Comedy   \n",
       "1      Patty Mullen    J.J. Clark   2500000.0    205068.0  Comedy   \n",
       "2       Andy Garcia   Talia Shire  54000000.0  66666062.0   Crime   \n",
       "3        Alan Arkin  Tomas Milian  40000000.0   9243140.0   Drama   \n",
       "4   Deborah Rennard  Lisa Pelikan   6000000.0  24078196.0  Action   \n",
       "\n",
       "   runtime_conv  full_date  \n",
       "0           125 1990-12-22  \n",
       "1            85 1990-06-01  \n",
       "2           162 1990-12-25  \n",
       "3           144 1990-12-14  \n",
       "4           108 1990-01-11  "
      ]
     },
     "execution_count": 17,
     "metadata": {},
     "output_type": "execute_result"
    }
   ],
   "source": [
    "#Combining release date and year\n",
    "\n",
    "# mojo_upd_df[\"full_date\"] = mojo_upd_df[\"release_date\"]+ str(mojo_upd_df[\"year\"])\n",
    "\n",
    "\n",
    "full_date = []\n",
    "\n",
    "for index,row in mojo_upd_df.iterrows():\n",
    "    vals = str(row[\"release_date\"]) + \" \" + str(row[\"year\"])\n",
    "    full_date.append(vals)\n",
    "\n",
    "mojo_upd_df[\"full_date\"] = full_date   \n",
    "mojo_upd_df[\"full_date\"] = pd.to_datetime(mojo_upd_df[\"full_date\"])                    \n",
    "mojo_upd_df.head()"
   ]
  },
  {
   "cell_type": "code",
   "execution_count": 18,
   "id": "bff4bc5f",
   "metadata": {},
   "outputs": [
    {
     "data": {
      "text/plain": [
       "<AxesSubplot:title={'center':'Unique values per feature'}>"
      ]
     },
     "execution_count": 18,
     "metadata": {},
     "output_type": "execute_result"
    },
    {
     "data": {
      "image/png": "[encoded data removed]",
      "text/plain": [
       "<Figure size 1080x288 with 1 Axes>"
      ]
     },
     "metadata": {
      "needs_background": "light"
     },
     "output_type": "display_data"
    }
   ],
   "source": [
    "unique_values = mojo_upd_df.select_dtypes(include=\"number\").nunique().sort_values()\n",
    "\n",
    "unique_values.plot.bar(logy=True,figsize=(15,4),title = \"Unique values per feature\")"
   ]
  },
  {
   "cell_type": "code",
   "execution_count": 19,
   "id": "c3dccb1d",
   "metadata": {},
   "outputs": [
    {
     "data": {
      "image/png": "[encoded data removed]",
      "text/plain": [
       "<Figure size 1080x288 with 1 Axes>"
      ]
     },
     "metadata": {
      "needs_background": "light"
     },
     "output_type": "display_data"
    }
   ],
   "source": [
    "mojo_upd_df.isna().mean().sort_values().plot(\n",
    "    kind=\"bar\", figsize=(15, 4),\n",
    "    title=\"Percentage of missing values per feature\",\n",
    "    ylabel=\"Ratio of missing values per feature\");"
   ]
  },
  {
   "cell_type": "code",
   "execution_count": 20,
   "id": "97c2f61f",
   "metadata": {},
   "outputs": [
    {
     "data": {
      "text/html": [
       "<div>\n",
       "<style scoped>\n",
       "    .dataframe tbody tr th:only-of-type {\n",
       "        vertical-align: middle;\n",
       "    }\n",
       "\n",
       "    .dataframe tbody tr th {\n",
       "        vertical-align: top;\n",
       "    }\n",
       "\n",
       "    .dataframe thead th {\n",
       "        text-align: right;\n",
       "    }\n",
       "</style>\n",
       "<table border=\"1\" class=\"dataframe\">\n",
       "  <thead>\n",
       "    <tr style=\"text-align: right;\">\n",
       "      <th></th>\n",
       "      <th>year</th>\n",
       "      <th>budget</th>\n",
       "      <th>domestic</th>\n",
       "      <th>runtime_conv</th>\n",
       "    </tr>\n",
       "  </thead>\n",
       "  <tbody>\n",
       "    <tr>\n",
       "      <th>count</th>\n",
       "      <td>3068.000000</td>\n",
       "      <td>3.068000e+03</td>\n",
       "      <td>3.068000e+03</td>\n",
       "      <td>3068.000000</td>\n",
       "    </tr>\n",
       "    <tr>\n",
       "      <th>mean</th>\n",
       "      <td>2006.904824</td>\n",
       "      <td>4.727161e+07</td>\n",
       "      <td>6.192603e+07</td>\n",
       "      <td>109.282595</td>\n",
       "    </tr>\n",
       "    <tr>\n",
       "      <th>std</th>\n",
       "      <td>7.074530</td>\n",
       "      <td>4.740497e+07</td>\n",
       "      <td>8.047241e+07</td>\n",
       "      <td>18.465011</td>\n",
       "    </tr>\n",
       "    <tr>\n",
       "      <th>min</th>\n",
       "      <td>1990.000000</td>\n",
       "      <td>1.100000e+03</td>\n",
       "      <td>9.040000e+02</td>\n",
       "      <td>68.000000</td>\n",
       "    </tr>\n",
       "    <tr>\n",
       "      <th>25%</th>\n",
       "      <td>2001.000000</td>\n",
       "      <td>1.500000e+07</td>\n",
       "      <td>1.386308e+07</td>\n",
       "      <td>96.000000</td>\n",
       "    </tr>\n",
       "    <tr>\n",
       "      <th>50%</th>\n",
       "      <td>2007.000000</td>\n",
       "      <td>3.000000e+07</td>\n",
       "      <td>3.590826e+07</td>\n",
       "      <td>106.000000</td>\n",
       "    </tr>\n",
       "    <tr>\n",
       "      <th>75%</th>\n",
       "      <td>2013.000000</td>\n",
       "      <td>6.500000e+07</td>\n",
       "      <td>7.714734e+07</td>\n",
       "      <td>120.000000</td>\n",
       "    </tr>\n",
       "    <tr>\n",
       "      <th>max</th>\n",
       "      <td>2020.000000</td>\n",
       "      <td>3.560000e+08</td>\n",
       "      <td>9.366622e+08</td>\n",
       "      <td>242.000000</td>\n",
       "    </tr>\n",
       "  </tbody>\n",
       "</table>\n",
       "</div>"
      ],
      "text/plain": [
       "              year        budget      domestic  runtime_conv\n",
       "count  3068.000000  3.068000e+03  3.068000e+03   3068.000000\n",
       "mean   2006.904824  4.727161e+07  6.192603e+07    109.282595\n",
       "std       7.074530  4.740497e+07  8.047241e+07     18.465011\n",
       "min    1990.000000  1.100000e+03  9.040000e+02     68.000000\n",
       "25%    2001.000000  1.500000e+07  1.386308e+07     96.000000\n",
       "50%    2007.000000  3.000000e+07  3.590826e+07    106.000000\n",
       "75%    2013.000000  6.500000e+07  7.714734e+07    120.000000\n",
       "max    2020.000000  3.560000e+08  9.366622e+08    242.000000"
      ]
     },
     "execution_count": 20,
     "metadata": {},
     "output_type": "execute_result"
    }
   ],
   "source": [
    "mojo_upd_df.describe()"
   ]
  },
  {
   "cell_type": "code",
   "execution_count": 21,
   "id": "90db88f4",
   "metadata": {},
   "outputs": [
    {
     "data": {
      "text/plain": [
       "(3068, 16)"
      ]
     },
     "execution_count": 21,
     "metadata": {},
     "output_type": "execute_result"
    }
   ],
   "source": [
    "mojo_upd_df.shape"
   ]
  },
  {
   "cell_type": "code",
   "execution_count": 24,
   "id": "21278fb3",
   "metadata": {},
   "outputs": [
    {
     "data": {
      "text/plain": [
       "3047"
      ]
     },
     "execution_count": 24,
     "metadata": {},
     "output_type": "execute_result"
    }
   ],
   "source": [
    "mojo_upd_df['title'].nunique()"
   ]
  },
  {
   "cell_type": "code",
   "execution_count": null,
   "id": "d077b6a1",
   "metadata": {},
   "outputs": [],
   "source": [
    "# imputation for numerical values\n",
    "#mojo_upd_df[\"international\"].fillna(df_num[\"international\"].mean(), inplace=True)\n",
    "# impute data using MODE (most frequent) for string\n",
    "# df_str = df_str.fillna(df_str.mode().iloc[0])\n",
    "# df_str.info()\n"
   ]
  },
  {
   "cell_type": "code",
   "execution_count": null,
   "id": "88862ebd",
   "metadata": {},
   "outputs": [],
   "source": [
    "#mojo_upd_df.drop('stoptime', axis=1, inplace=True)\n",
    "#mojo_upd_df"
   ]
  },
  {
   "cell_type": "code",
   "execution_count": 25,
   "id": "40bccc4b",
   "metadata": {},
   "outputs": [
    {
     "data": {
      "text/plain": [
       "array(['R', 'PG', 'PG-13', 'G', 'NC-17'], dtype=object)"
      ]
     },
     "execution_count": 25,
     "metadata": {},
     "output_type": "execute_result"
    }
   ],
   "source": [
    "unique = mojo_upd_df['mpaa'].unique()\n",
    "unique "
   ]
  },
  {
   "cell_type": "code",
   "execution_count": 26,
   "id": "1a71df69",
   "metadata": {},
   "outputs": [
    {
     "data": {
      "text/html": [
       "<div>\n",
       "<style scoped>\n",
       "    .dataframe tbody tr th:only-of-type {\n",
       "        vertical-align: middle;\n",
       "    }\n",
       "\n",
       "    .dataframe tbody tr th {\n",
       "        vertical-align: top;\n",
       "    }\n",
       "\n",
       "    .dataframe thead th {\n",
       "        text-align: right;\n",
       "    }\n",
       "</style>\n",
       "<table border=\"1\" class=\"dataframe\">\n",
       "  <thead>\n",
       "    <tr style=\"text-align: right;\">\n",
       "      <th></th>\n",
       "      <th>year</th>\n",
       "      <th>budget</th>\n",
       "      <th>domestic</th>\n",
       "      <th>runtime_conv</th>\n",
       "    </tr>\n",
       "  </thead>\n",
       "  <tbody>\n",
       "    <tr>\n",
       "      <th>year</th>\n",
       "      <td>1.000000</td>\n",
       "      <td>0.161643</td>\n",
       "      <td>0.162321</td>\n",
       "      <td>0.011313</td>\n",
       "    </tr>\n",
       "    <tr>\n",
       "      <th>budget</th>\n",
       "      <td>0.161643</td>\n",
       "      <td>1.000000</td>\n",
       "      <td>0.667288</td>\n",
       "      <td>0.358283</td>\n",
       "    </tr>\n",
       "    <tr>\n",
       "      <th>domestic</th>\n",
       "      <td>0.162321</td>\n",
       "      <td>0.667288</td>\n",
       "      <td>1.000000</td>\n",
       "      <td>0.298830</td>\n",
       "    </tr>\n",
       "    <tr>\n",
       "      <th>runtime_conv</th>\n",
       "      <td>0.011313</td>\n",
       "      <td>0.358283</td>\n",
       "      <td>0.298830</td>\n",
       "      <td>1.000000</td>\n",
       "    </tr>\n",
       "  </tbody>\n",
       "</table>\n",
       "</div>"
      ],
      "text/plain": [
       "                  year    budget  domestic  runtime_conv\n",
       "year          1.000000  0.161643  0.162321      0.011313\n",
       "budget        0.161643  1.000000  0.667288      0.358283\n",
       "domestic      0.162321  0.667288  1.000000      0.298830\n",
       "runtime_conv  0.011313  0.358283  0.298830      1.000000"
      ]
     },
     "execution_count": 26,
     "metadata": {},
     "output_type": "execute_result"
    }
   ],
   "source": [
    "mojo_upd_df.corr()"
   ]
  },
  {
   "cell_type": "code",
   "execution_count": 27,
   "id": "320fdccd",
   "metadata": {},
   "outputs": [
    {
     "data": {
      "image/png": "[encoded data removed]",
      "text/plain": [
       "<Figure size 720x432 with 2 Axes>"
      ]
     },
     "metadata": {
      "needs_background": "light"
     },
     "output_type": "display_data"
    }
   ],
   "source": [
    "plt.figure(figsize=(10,6))\n",
    "sns.heatmap(mojo_upd_df.corr())\n",
    "plt.show()"
   ]
  },
  {
   "cell_type": "code",
   "execution_count": null,
   "id": "d3f3d981",
   "metadata": {
    "scrolled": false
   },
   "outputs": [],
   "source": [
    "mojo_update = mojo_upd_df.plot(figsize = (20,6))\n",
    "# Add a title \n",
    "mojo_update.set_title(\"movies vs budget\")\n",
    "#  Add a x- and y-axis label.\n",
    "mojo_update.set_xlabel(\"Movies\")\n",
    "mojo_update.set_ylabel(\"budget\")\n",
    "\n",
    "plt.show()\n",
    "plt.tight_layout()"
   ]
  },
  {
   "cell_type": "code",
   "execution_count": 30,
   "id": "594354db",
   "metadata": {},
   "outputs": [
    {
     "data": {
      "image/png": "[encoded data removed]",
      "text/plain": [
       "<Figure size 720x432 with 1 Axes>"
      ]
     },
     "metadata": {
      "needs_background": "light"
     },
     "output_type": "display_data"
    }
   ],
   "source": [
    "plt.figure(figsize=(10,6))\n",
    "plt.hist(mojo_upd_df[\"budget\"])\n",
    "plt.show()"
   ]
  },
  {
   "cell_type": "code",
   "execution_count": 31,
   "id": "a7527d21",
   "metadata": {},
   "outputs": [],
   "source": [
    "rotten_tomatoes_df = pd.read_csv('Resources/rotten_tomatoes_movies.csv')"
   ]
  },
  {
   "cell_type": "code",
   "execution_count": 32,
   "id": "bf99d668",
   "metadata": {},
   "outputs": [
    {
     "data": {
      "text/html": [
       "<div>\n",
       "<style scoped>\n",
       "    .dataframe tbody tr th:only-of-type {\n",
       "        vertical-align: middle;\n",
       "    }\n",
       "\n",
       "    .dataframe tbody tr th {\n",
       "        vertical-align: top;\n",
       "    }\n",
       "\n",
       "    .dataframe thead th {\n",
       "        text-align: right;\n",
       "    }\n",
       "</style>\n",
       "<table border=\"1\" class=\"dataframe\">\n",
       "  <thead>\n",
       "    <tr style=\"text-align: right;\">\n",
       "      <th></th>\n",
       "      <th>rotten_tomatoes_link</th>\n",
       "      <th>movie_title</th>\n",
       "      <th>movie_info</th>\n",
       "      <th>critics_consensus</th>\n",
       "      <th>content_rating</th>\n",
       "      <th>genres</th>\n",
       "      <th>directors</th>\n",
       "      <th>authors</th>\n",
       "      <th>actors</th>\n",
       "      <th>original_release_date</th>\n",
       "      <th>streaming_release_date</th>\n",
       "      <th>runtime</th>\n",
       "      <th>production_company</th>\n",
       "      <th>tomatometer_status</th>\n",
       "      <th>tomatometer_rating</th>\n",
       "      <th>tomatometer_count</th>\n",
       "      <th>audience_status</th>\n",
       "      <th>audience_rating</th>\n",
       "      <th>audience_count</th>\n",
       "      <th>tomatometer_top_critics_count</th>\n",
       "      <th>tomatometer_fresh_critics_count</th>\n",
       "      <th>tomatometer_rotten_critics_count</th>\n",
       "    </tr>\n",
       "  </thead>\n",
       "  <tbody>\n",
       "    <tr>\n",
       "      <th>0</th>\n",
       "      <td>m/0814255</td>\n",
       "      <td>Percy Jackson &amp; the Olympians: The Lightning Thief</td>\n",
       "      <td>Always trouble-prone, the life of teenager Percy Jackson (Logan Lerman) gets a lot more complicated when he learns he's the son of the Greek god Poseidon. At a training ground for the children of deities, Percy learns to harness his divine powers and prepare for the adventure of a lifetime: he must prevent a feud among the Olympians from erupting into a devastating war on Earth, and rescue his mother from the clutches of Hades, god of the underworld.</td>\n",
       "      <td>Though it may seem like just another Harry Potter knockoff, Percy Jackson benefits from a strong supporting cast, a speedy plot, and plenty of fun with Greek mythology.</td>\n",
       "      <td>PG</td>\n",
       "      <td>Action &amp; Adventure, Comedy, Drama, Science Fiction &amp; Fantasy</td>\n",
       "      <td>Chris Columbus</td>\n",
       "      <td>Craig Titley, Chris Columbus, Rick Riordan</td>\n",
       "      <td>Logan Lerman, Brandon T. Jackson, Alexandra Daddario, Jake Abel, Sean Bean, Pierce Brosnan, Steve Coogan, Rosario Dawson, Melina Kanakaredes, Catherine Keener, Kevin Mckidd, Joe Pantoliano, Uma Thurman, Ray Winstone, Julian Richings, Bonita Friedericy, Annie Ilonzeh, Tania Saulnier, Marie Avgeropoulos, Luisa D'Oliveira, Christie Laing, Marielle Jaffe, Elisa King, Chrystal Tisiga, Alexis Knapp, Charlie Gallant, Chelan Simmons, Andrea Brooks, Natassia Malthe, Max Van Ville, Serinda Swan, Dimitri Lekkos, Ona Grauer, Stefanie von Pfetten, Conrad Coates, Erica Cerra, Dylan Neal, Luke Camilleri, Holly Hougham, Ina Geraldine, Raquel Riskin, Yusleidis Oquendo, Janine Edwards, Valerie Tian, Violet Columbus, Sarah Smyth, Merritt Patterson, Julie Luck, Andrea Day, John Stewart, Suzanne Ristic, Deejay Jackson, Matthew Garrick, Stan Carp, Suzanna Ristic, Richard Harmon, Maria Olsen, Robin Lemon, Doyle Devereux, Tom Pickett, VJ Delos-Reyes, Tim Aas, Keith Dallas, Spencer Atkinson, Maya Washington, Loyd Bateman, Victor Ayala, Zane Holtz, Eli Zagoudakis, Matt Reimer, Rob Hayter, Lloyd Bateman, Shawn Beaton, Jarod Joseph, Reilly Dolman, Paul Cummings, Julie Brar, Dejan Loyola, Damian Arman, Mario Casoria, Dorla Bell, Carolyn Adair (II), Jade Pawluk, G. Patrick Currie, Darian Arman, Mariela Zapata, David L. Smith</td>\n",
       "      <td>2010-02-12</td>\n",
       "      <td>2015-11-25</td>\n",
       "      <td>119.0</td>\n",
       "      <td>20th Century Fox</td>\n",
       "      <td>Rotten</td>\n",
       "      <td>49.0</td>\n",
       "      <td>149.0</td>\n",
       "      <td>Spilled</td>\n",
       "      <td>53.0</td>\n",
       "      <td>254421.0</td>\n",
       "      <td>43</td>\n",
       "      <td>73</td>\n",
       "      <td>76</td>\n",
       "    </tr>\n",
       "    <tr>\n",
       "      <th>1</th>\n",
       "      <td>m/0878835</td>\n",
       "      <td>Please Give</td>\n",
       "      <td>Kate (Catherine Keener) and her husband Alex (Oliver Platt) are wealthy New Yorkers who prowl estate sales and make a tidy profit reselling items they bought cheaply. They buy the apartment next door and plan to remodel just as soon as its current occupant, a cranky old woman, dies. Kate is troubled by the way she and her husband earn a living, and tries to assuage her guilt by befriending her tenant and the woman's granddaughters, but her overtures lead to unexpected consequences.</td>\n",
       "      <td>Nicole Holofcener's newest might seem slight in places, but its rendering of complex characters in a conflicted economic landscape is varied, natural, and touching all the same.</td>\n",
       "      <td>R</td>\n",
       "      <td>Comedy</td>\n",
       "      <td>Nicole Holofcener</td>\n",
       "      <td>Nicole Holofcener</td>\n",
       "      <td>Catherine Keener, Amanda Peet, Oliver Platt, Rebecca Hall, Sarah Steele, Ann Morgan Guilbert, Kevin Corrigan, Lois Smith</td>\n",
       "      <td>2010-04-30</td>\n",
       "      <td>2012-09-04</td>\n",
       "      <td>90.0</td>\n",
       "      <td>Sony Pictures Classics</td>\n",
       "      <td>Certified-Fresh</td>\n",
       "      <td>87.0</td>\n",
       "      <td>142.0</td>\n",
       "      <td>Upright</td>\n",
       "      <td>64.0</td>\n",
       "      <td>11574.0</td>\n",
       "      <td>44</td>\n",
       "      <td>123</td>\n",
       "      <td>19</td>\n",
       "    </tr>\n",
       "    <tr>\n",
       "      <th>2</th>\n",
       "      <td>m/10</td>\n",
       "      <td>10</td>\n",
       "      <td>A successful, middle-aged Hollywood songwriter falls hopelessly in love with the woman of his dreams, and even follows the girl and her new husband to their Mexican honeymoon resort. While his behavior seems sure to land him in trouble, out of the blue fate plays into his hands.</td>\n",
       "      <td>Blake Edwards' bawdy comedy may not score a perfect 10, but Dudley Moore's self-deprecating performance makes this midlife crisis persistently funny.</td>\n",
       "      <td>R</td>\n",
       "      <td>Comedy, Romance</td>\n",
       "      <td>Blake Edwards</td>\n",
       "      <td>Blake Edwards</td>\n",
       "      <td>Dudley Moore, Bo Derek, Julie Andrews, Robert Webber, Dee Wallace, Sam Jones III, Sam J. Jones, Brian Dennehy, Max Showalter, Rad Daly, Nedra Volz, James Noble, Virginia Kiser, John Hawker, Deborah Rush, Don Calfa, Walter George Alton, Annette Martin, John Hancock, Lorry Goldman, Arthur Rosenberg, Mari Gorman, Marcy Hanson, Julia Jennings, Senilo Tanney, Kitty DeCarlo, William Lucking, Owen Sullivan, Debbie White, Laurence Carr, Camila Ashland, Adrian Aron, Gail Bowman, Burke Byrnes, Michael Champion, Doug Sheehan, J. Victor Lopez, Gregory Chase, Jon Linton, Ellen Clark, Antonia Ellis, John Chappell, Lynn Farrell, Art Kassul, Denise Crosby, Jeanetta Arnette</td>\n",
       "      <td>1979-10-05</td>\n",
       "      <td>2014-07-24</td>\n",
       "      <td>122.0</td>\n",
       "      <td>Waner Bros.</td>\n",
       "      <td>Fresh</td>\n",
       "      <td>67.0</td>\n",
       "      <td>24.0</td>\n",
       "      <td>Spilled</td>\n",
       "      <td>53.0</td>\n",
       "      <td>14684.0</td>\n",
       "      <td>2</td>\n",
       "      <td>16</td>\n",
       "      <td>8</td>\n",
       "    </tr>\n",
       "    <tr>\n",
       "      <th>3</th>\n",
       "      <td>m/1000013-12_angry_men</td>\n",
       "      <td>12 Angry Men (Twelve Angry Men)</td>\n",
       "      <td>Following the closing arguments in a murder trial, the 12 members of the jury must deliberate, with a guilty verdict meaning death for the accused, an inner-city teen. As the dozen men try to reach a unanimous decision while sequestered in a room, one juror (Henry Fonda) casts considerable doubt on elements of the case. Personal issues soon rise to the surface, and conflict threatens to derail the delicate process that will decide one boy's fate.</td>\n",
       "      <td>Sidney Lumet's feature debut is a superbly written, dramatically effective courtroom thriller that rightfully stands as a modern classic.</td>\n",
       "      <td>NR</td>\n",
       "      <td>Classics, Drama</td>\n",
       "      <td>Sidney Lumet</td>\n",
       "      <td>Reginald Rose</td>\n",
       "      <td>Martin Balsam, John Fiedler, Lee J. Cobb, E.G. Marshall, Jack Klugman, Edward Binns, Jack Warden, Henry Fonda, Joseph Sweeney, Ed Begley Sr., George Voskovec, Robert Webber, Rudy Bond, James A. Kelly, Billy Nelson, John Savoca</td>\n",
       "      <td>1957-04-13</td>\n",
       "      <td>2017-01-13</td>\n",
       "      <td>95.0</td>\n",
       "      <td>Criterion Collection</td>\n",
       "      <td>Certified-Fresh</td>\n",
       "      <td>100.0</td>\n",
       "      <td>54.0</td>\n",
       "      <td>Upright</td>\n",
       "      <td>97.0</td>\n",
       "      <td>105386.0</td>\n",
       "      <td>6</td>\n",
       "      <td>54</td>\n",
       "      <td>0</td>\n",
       "    </tr>\n",
       "    <tr>\n",
       "      <th>4</th>\n",
       "      <td>m/1000079-20000_leagues_under_the_sea</td>\n",
       "      <td>20,000 Leagues Under The Sea</td>\n",
       "      <td>In 1866, Professor Pierre M. Aronnax (Paul Lukas) and his assistant Conseil (Peter Lorre), stranded in San Francisco by reports of a giant sea monster attacking ships in the Pacific Ocean, are invited to join an expedition to search for the creature. During the search, they and harpooner Ned Land (Kirk Douglas) are thrown overboard during an attack, eventually discovering that the supposed monster is actually a submarine piloted by the brilliant but haunted Captain Nemo (James Mason).</td>\n",
       "      <td>One of Disney's finest live-action adventures, 20,000 Leagues Under the Sea brings Jules Verne's classic sci-fi tale to vivid life, and features an awesome giant squid.</td>\n",
       "      <td>G</td>\n",
       "      <td>Action &amp; Adventure, Drama, Kids &amp; Family</td>\n",
       "      <td>Richard Fleischer</td>\n",
       "      <td>Earl Felton</td>\n",
       "      <td>James Mason, Kirk Douglas, Paul Lukas, Peter Lorre, Robert J. Wilke, Carleton Young, Bob Wilke, Ted de Corsia, Percy Helton, Ted Cooper, Eddie Marr, Fred Graham, Esmeralda, J.M. Kerrigan, Harry Harvey, Herb Vigran</td>\n",
       "      <td>1954-01-01</td>\n",
       "      <td>2016-06-10</td>\n",
       "      <td>127.0</td>\n",
       "      <td>Disney</td>\n",
       "      <td>Fresh</td>\n",
       "      <td>89.0</td>\n",
       "      <td>27.0</td>\n",
       "      <td>Upright</td>\n",
       "      <td>74.0</td>\n",
       "      <td>68918.0</td>\n",
       "      <td>5</td>\n",
       "      <td>24</td>\n",
       "      <td>3</td>\n",
       "    </tr>\n",
       "  </tbody>\n",
       "</table>\n",
       "</div>"
      ],
      "text/plain": [
       "                    rotten_tomatoes_link  \\\n",
       "0                              m/0814255   \n",
       "1                              m/0878835   \n",
       "2                                   m/10   \n",
       "3                 m/1000013-12_angry_men   \n",
       "4  m/1000079-20000_leagues_under_the_sea   \n",
       "\n",
       "                                          movie_title  \\\n",
       "0  Percy Jackson & the Olympians: The Lightning Thief   \n",
       "1                                         Please Give   \n",
       "2                                                  10   \n",
       "3                     12 Angry Men (Twelve Angry Men)   \n",
       "4                        20,000 Leagues Under The Sea   \n",
       "\n",
       "                                                                                                                                                                                                                                                                                                                                                                                                                                                                                                  movie_info  \\\n",
       "0                                     Always trouble-prone, the life of teenager Percy Jackson (Logan Lerman) gets a lot more complicated when he learns he's the son of the Greek god Poseidon. At a training ground for the children of deities, Percy learns to harness his divine powers and prepare for the adventure of a lifetime: he must prevent a feud among the Olympians from erupting into a devastating war on Earth, and rescue his mother from the clutches of Hades, god of the underworld.   \n",
       "1     Kate (Catherine Keener) and her husband Alex (Oliver Platt) are wealthy New Yorkers who prowl estate sales and make a tidy profit reselling items they bought cheaply. They buy the apartment next door and plan to remodel just as soon as its current occupant, a cranky old woman, dies. Kate is troubled by the way she and her husband earn a living, and tries to assuage her guilt by befriending her tenant and the woman's granddaughters, but her overtures lead to unexpected consequences.   \n",
       "2                                                                                                                                                                                                                    A successful, middle-aged Hollywood songwriter falls hopelessly in love with the woman of his dreams, and even follows the girl and her new husband to their Mexican honeymoon resort. While his behavior seems sure to land him in trouble, out of the blue fate plays into his hands.   \n",
       "3                                         Following the closing arguments in a murder trial, the 12 members of the jury must deliberate, with a guilty verdict meaning death for the accused, an inner-city teen. As the dozen men try to reach a unanimous decision while sequestered in a room, one juror (Henry Fonda) casts considerable doubt on elements of the case. Personal issues soon rise to the surface, and conflict threatens to derail the delicate process that will decide one boy's fate.   \n",
       "4  In 1866, Professor Pierre M. Aronnax (Paul Lukas) and his assistant Conseil (Peter Lorre), stranded in San Francisco by reports of a giant sea monster attacking ships in the Pacific Ocean, are invited to join an expedition to search for the creature. During the search, they and harpooner Ned Land (Kirk Douglas) are thrown overboard during an attack, eventually discovering that the supposed monster is actually a submarine piloted by the brilliant but haunted Captain Nemo (James Mason).   \n",
       "\n",
       "                                                                                                                                                                   critics_consensus  \\\n",
       "0           Though it may seem like just another Harry Potter knockoff, Percy Jackson benefits from a strong supporting cast, a speedy plot, and plenty of fun with Greek mythology.   \n",
       "1  Nicole Holofcener's newest might seem slight in places, but its rendering of complex characters in a conflicted economic landscape is varied, natural, and touching all the same.   \n",
       "2                              Blake Edwards' bawdy comedy may not score a perfect 10, but Dudley Moore's self-deprecating performance makes this midlife crisis persistently funny.   \n",
       "3                                          Sidney Lumet's feature debut is a superbly written, dramatically effective courtroom thriller that rightfully stands as a modern classic.   \n",
       "4           One of Disney's finest live-action adventures, 20,000 Leagues Under the Sea brings Jules Verne's classic sci-fi tale to vivid life, and features an awesome giant squid.   \n",
       "\n",
       "  content_rating  \\\n",
       "0             PG   \n",
       "1              R   \n",
       "2              R   \n",
       "3             NR   \n",
       "4              G   \n",
       "\n",
       "                                                         genres  \\\n",
       "0  Action & Adventure, Comedy, Drama, Science Fiction & Fantasy   \n",
       "1                                                        Comedy   \n",
       "2                                               Comedy, Romance   \n",
       "3                                               Classics, Drama   \n",
       "4                      Action & Adventure, Drama, Kids & Family   \n",
       "\n",
       "           directors                                     authors  \\\n",
       "0     Chris Columbus  Craig Titley, Chris Columbus, Rick Riordan   \n",
       "1  Nicole Holofcener                           Nicole Holofcener   \n",
       "2      Blake Edwards                               Blake Edwards   \n",
       "3       Sidney Lumet                               Reginald Rose   \n",
       "4  Richard Fleischer                                 Earl Felton   \n",
       "\n",
       "                                                                                                                                                                                                                                                                                                                                                                                                                                                                                                                                                                                                                                                                                                                                                                                                                                                                                                                                                                                                                                                                                                                                                                                                                                                                                                                                                                 actors  \\\n",
       "0  Logan Lerman, Brandon T. Jackson, Alexandra Daddario, Jake Abel, Sean Bean, Pierce Brosnan, Steve Coogan, Rosario Dawson, Melina Kanakaredes, Catherine Keener, Kevin Mckidd, Joe Pantoliano, Uma Thurman, Ray Winstone, Julian Richings, Bonita Friedericy, Annie Ilonzeh, Tania Saulnier, Marie Avgeropoulos, Luisa D'Oliveira, Christie Laing, Marielle Jaffe, Elisa King, Chrystal Tisiga, Alexis Knapp, Charlie Gallant, Chelan Simmons, Andrea Brooks, Natassia Malthe, Max Van Ville, Serinda Swan, Dimitri Lekkos, Ona Grauer, Stefanie von Pfetten, Conrad Coates, Erica Cerra, Dylan Neal, Luke Camilleri, Holly Hougham, Ina Geraldine, Raquel Riskin, Yusleidis Oquendo, Janine Edwards, Valerie Tian, Violet Columbus, Sarah Smyth, Merritt Patterson, Julie Luck, Andrea Day, John Stewart, Suzanne Ristic, Deejay Jackson, Matthew Garrick, Stan Carp, Suzanna Ristic, Richard Harmon, Maria Olsen, Robin Lemon, Doyle Devereux, Tom Pickett, VJ Delos-Reyes, Tim Aas, Keith Dallas, Spencer Atkinson, Maya Washington, Loyd Bateman, Victor Ayala, Zane Holtz, Eli Zagoudakis, Matt Reimer, Rob Hayter, Lloyd Bateman, Shawn Beaton, Jarod Joseph, Reilly Dolman, Paul Cummings, Julie Brar, Dejan Loyola, Damian Arman, Mario Casoria, Dorla Bell, Carolyn Adair (II), Jade Pawluk, G. Patrick Currie, Darian Arman, Mariela Zapata, David L. Smith   \n",
       "1                                                                                                                                                                                                                                                                                                                                                                                                                                                                                                                                                                                                                                                                                                                                                                                                                                                                                                                                                                                                                                                                                                                                                                                                                                              Catherine Keener, Amanda Peet, Oliver Platt, Rebecca Hall, Sarah Steele, Ann Morgan Guilbert, Kevin Corrigan, Lois Smith   \n",
       "2                                                                                                                                                                                                                                                                                                                                                                                                                                                                                                                                                                                                                                                                             Dudley Moore, Bo Derek, Julie Andrews, Robert Webber, Dee Wallace, Sam Jones III, Sam J. Jones, Brian Dennehy, Max Showalter, Rad Daly, Nedra Volz, James Noble, Virginia Kiser, John Hawker, Deborah Rush, Don Calfa, Walter George Alton, Annette Martin, John Hancock, Lorry Goldman, Arthur Rosenberg, Mari Gorman, Marcy Hanson, Julia Jennings, Senilo Tanney, Kitty DeCarlo, William Lucking, Owen Sullivan, Debbie White, Laurence Carr, Camila Ashland, Adrian Aron, Gail Bowman, Burke Byrnes, Michael Champion, Doug Sheehan, J. Victor Lopez, Gregory Chase, Jon Linton, Ellen Clark, Antonia Ellis, John Chappell, Lynn Farrell, Art Kassul, Denise Crosby, Jeanetta Arnette   \n",
       "3                                                                                                                                                                                                                                                                                                                                                                                                                                                                                                                                                                                                                                                                                                                                                                                                                                                                                                                                                                                                                                                                                                                                    Martin Balsam, John Fiedler, Lee J. Cobb, E.G. Marshall, Jack Klugman, Edward Binns, Jack Warden, Henry Fonda, Joseph Sweeney, Ed Begley Sr., George Voskovec, Robert Webber, Rudy Bond, James A. Kelly, Billy Nelson, John Savoca   \n",
       "4                                                                                                                                                                                                                                                                                                                                                                                                                                                                                                                                                                                                                                                                                                                                                                                                                                                                                                                                                                                                                                                                                                                                                 James Mason, Kirk Douglas, Paul Lukas, Peter Lorre, Robert J. Wilke, Carleton Young, Bob Wilke, Ted de Corsia, Percy Helton, Ted Cooper, Eddie Marr, Fred Graham, Esmeralda, J.M. Kerrigan, Harry Harvey, Herb Vigran   \n",
       "\n",
       "  original_release_date streaming_release_date  runtime  \\\n",
       "0            2010-02-12             2015-11-25    119.0   \n",
       "1            2010-04-30             2012-09-04     90.0   \n",
       "2            1979-10-05             2014-07-24    122.0   \n",
       "3            1957-04-13             2017-01-13     95.0   \n",
       "4            1954-01-01             2016-06-10    127.0   \n",
       "\n",
       "       production_company tomatometer_status  tomatometer_rating  \\\n",
       "0        20th Century Fox             Rotten                49.0   \n",
       "1  Sony Pictures Classics    Certified-Fresh                87.0   \n",
       "2             Waner Bros.              Fresh                67.0   \n",
       "3    Criterion Collection    Certified-Fresh               100.0   \n",
       "4                  Disney              Fresh                89.0   \n",
       "\n",
       "   tomatometer_count audience_status  audience_rating  audience_count  \\\n",
       "0              149.0         Spilled             53.0        254421.0   \n",
       "1              142.0         Upright             64.0         11574.0   \n",
       "2               24.0         Spilled             53.0         14684.0   \n",
       "3               54.0         Upright             97.0        105386.0   \n",
       "4               27.0         Upright             74.0         68918.0   \n",
       "\n",
       "   tomatometer_top_critics_count  tomatometer_fresh_critics_count  \\\n",
       "0                             43                               73   \n",
       "1                             44                              123   \n",
       "2                              2                               16   \n",
       "3                              6                               54   \n",
       "4                              5                               24   \n",
       "\n",
       "   tomatometer_rotten_critics_count  \n",
       "0                                76  \n",
       "1                                19  \n",
       "2                                 8  \n",
       "3                                 0  \n",
       "4                                 3  "
      ]
     },
     "execution_count": 32,
     "metadata": {},
     "output_type": "execute_result"
    }
   ],
   "source": [
    "rotten_tomatoes_df.head()"
   ]
  },
  {
   "cell_type": "code",
   "execution_count": 33,
   "id": "ed27a136",
   "metadata": {},
   "outputs": [
    {
     "name": "stdout",
     "output_type": "stream",
     "text": [
      "<class 'pandas.core.frame.DataFrame'>\n",
      "RangeIndex: 17712 entries, 0 to 17711\n",
      "Data columns (total 22 columns):\n",
      " #   Column                            Non-Null Count  Dtype  \n",
      "---  ------                            --------------  -----  \n",
      " 0   rotten_tomatoes_link              17712 non-null  object \n",
      " 1   movie_title                       17712 non-null  object \n",
      " 2   movie_info                        17391 non-null  object \n",
      " 3   critics_consensus                 9134 non-null   object \n",
      " 4   content_rating                    17712 non-null  object \n",
      " 5   genres                            17693 non-null  object \n",
      " 6   directors                         17518 non-null  object \n",
      " 7   authors                           16170 non-null  object \n",
      " 8   actors                            17360 non-null  object \n",
      " 9   original_release_date             16546 non-null  object \n",
      " 10  streaming_release_date            17328 non-null  object \n",
      " 11  runtime                           17398 non-null  float64\n",
      " 12  production_company                17213 non-null  object \n",
      " 13  tomatometer_status                17668 non-null  object \n",
      " 14  tomatometer_rating                17668 non-null  float64\n",
      " 15  tomatometer_count                 17668 non-null  float64\n",
      " 16  audience_status                   17264 non-null  object \n",
      " 17  audience_rating                   17416 non-null  float64\n",
      " 18  audience_count                    17415 non-null  float64\n",
      " 19  tomatometer_top_critics_count     17712 non-null  int64  \n",
      " 20  tomatometer_fresh_critics_count   17712 non-null  int64  \n",
      " 21  tomatometer_rotten_critics_count  17712 non-null  int64  \n",
      "dtypes: float64(5), int64(3), object(14)\n",
      "memory usage: 3.0+ MB\n"
     ]
    }
   ],
   "source": [
    "rotten_tomatoes_df.info()"
   ]
  },
  {
   "cell_type": "code",
   "execution_count": 34,
   "id": "0eb245ce",
   "metadata": {},
   "outputs": [
    {
     "data": {
      "text/plain": [
       "Index(['rotten_tomatoes_link', 'movie_title', 'movie_info',\n",
       "       'critics_consensus', 'content_rating', 'genres', 'directors', 'authors',\n",
       "       'actors', 'original_release_date', 'streaming_release_date', 'runtime',\n",
       "       'production_company', 'tomatometer_status', 'tomatometer_rating',\n",
       "       'tomatometer_count', 'audience_status', 'audience_rating',\n",
       "       'audience_count', 'tomatometer_top_critics_count',\n",
       "       'tomatometer_fresh_critics_count', 'tomatometer_rotten_critics_count'],\n",
       "      dtype='object')"
      ]
     },
     "execution_count": 34,
     "metadata": {},
     "output_type": "execute_result"
    }
   ],
   "source": [
    "rotten_tomatoes_df.columns\n"
   ]
  },
  {
   "cell_type": "code",
   "execution_count": null,
   "id": "336173e2",
   "metadata": {},
   "outputs": [],
   "source": []
  }
 ],
 "metadata": {
  "kernelspec": {
   "display_name": "PythonData",
   "language": "python",
   "name": "pythondata"
  },
  "language_info": {
   "codemirror_mode": {
    "name": "ipython",
    "version": 3
   },
   "file_extension": ".py",
   "mimetype": "text/x-python",
   "name": "python",
   "nbconvert_exporter": "python",
   "pygments_lexer": "ipython3",
   "version": "3.7.11"
  }
 },
 "nbformat": 4,
 "nbformat_minor": 5
}
