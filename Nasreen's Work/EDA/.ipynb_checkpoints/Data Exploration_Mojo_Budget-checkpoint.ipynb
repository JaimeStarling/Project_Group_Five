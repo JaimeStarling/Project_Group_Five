{
 "cells": [
  {
   "cell_type": "code",
   "execution_count": 1,
   "id": "f02961a6",
   "metadata": {},
   "outputs": [],
   "source": [
    "# generic data science libraries\n",
    "import pandas as pd\n",
    "pd.set_option('display.max_columns', None)\n",
    "import numpy as np\n",
    "\n",
    "# data visualization\n",
    "import matplotlib.pyplot as plt\n",
    "import seaborn as sns\n"
   ]
  },
  {
   "cell_type": "code",
   "execution_count": 2,
   "id": "4a9f38f7",
   "metadata": {},
   "outputs": [],
   "source": [
    "# pandas display options\n",
    "pd.set_option('display.max_columns', None)\n",
    "pd.set_option(\"display.max_colwidth\", None)\n",
    "pd.set_option(\"display.max_rows\", None)"
   ]
  },
  {
   "cell_type": "markdown",
   "id": "625323dd",
   "metadata": {},
   "source": [
    "# Gather data and Data Cleaning"
   ]
  },
  {
   "cell_type": "code",
   "execution_count": 3,
   "id": "6e3fdd7a",
   "metadata": {},
   "outputs": [],
   "source": [
    "#Input Mojo_budget_updata.csv file\n",
    "mojo_upd_df = pd.read_csv('../Resources/Mojo_budget_update.csv')"
   ]
  },
  {
   "cell_type": "code",
   "execution_count": 4,
   "id": "86a7b7b3",
   "metadata": {},
   "outputs": [
    {
     "name": "stdout",
     "output_type": "stream",
     "text": [
      "<class 'pandas.core.frame.DataFrame'>\n",
      "RangeIndex: 3243 entries, 0 to 3242\n",
      "Data columns (total 26 columns):\n",
      " #   Column           Non-Null Count  Dtype  \n",
      "---  ------           --------------  -----  \n",
      " 0   movie_id         3243 non-null   object \n",
      " 1   title            3243 non-null   object \n",
      " 2   year             3243 non-null   int64  \n",
      " 3   trivia           3243 non-null   object \n",
      " 4   mpaa             3082 non-null   object \n",
      " 5   release_date     3242 non-null   object \n",
      " 6   run_time         3243 non-null   object \n",
      " 7   distributor      3228 non-null   object \n",
      " 8   director         3243 non-null   object \n",
      " 9   writer           3234 non-null   object \n",
      " 10  producer         3230 non-null   object \n",
      " 11  composer         3138 non-null   object \n",
      " 12  cinematographer  3129 non-null   object \n",
      " 13  main_actor_1     3243 non-null   object \n",
      " 14  main_actor_2     3243 non-null   object \n",
      " 15  main_actor_3     3243 non-null   object \n",
      " 16  main_actor_4     3240 non-null   object \n",
      " 17  budget           3243 non-null   float64\n",
      " 18  domestic         3224 non-null   float64\n",
      " 19  international    2833 non-null   float64\n",
      " 20  worldwide        3236 non-null   float64\n",
      " 21  genre_1          3243 non-null   object \n",
      " 22  genre_2          2962 non-null   object \n",
      " 23  genre_3          2221 non-null   object \n",
      " 24  genre_4          1123 non-null   object \n",
      " 25  html             3243 non-null   object \n",
      "dtypes: float64(4), int64(1), object(21)\n",
      "memory usage: 658.9+ KB\n"
     ]
    }
   ],
   "source": [
    "#Information about the data\n",
    "mojo_upd_df.info()"
   ]
  },
  {
   "cell_type": "code",
   "execution_count": 5,
   "id": "9c54ef5e",
   "metadata": {},
   "outputs": [],
   "source": [
    "mojo_upd_df = mojo_upd_df.loc[pd.notnull(mojo_upd_df[\"release_date\"])].reset_index(drop=True)\n"
   ]
  },
  {
   "cell_type": "code",
   "execution_count": 6,
   "id": "a805bd2a",
   "metadata": {},
   "outputs": [],
   "source": [
    "mojo_upd_df = mojo_upd_df.loc[pd.notnull(mojo_upd_df[\"mpaa\"])].reset_index(drop=True)"
   ]
  },
  {
   "cell_type": "code",
   "execution_count": 7,
   "id": "fecd73ab",
   "metadata": {
    "scrolled": true
   },
   "outputs": [],
   "source": [
    "mojo_upd_df = mojo_upd_df.drop([\"distributor\",\"writer\",\"producer\",\"composer\",\"cinematographer\",\"international\",\"worldwide\",\"genre_2\",\"genre_3\",\"genre_4\",\"trivia\",\"html\"],axis=1)\n"
   ]
  },
  {
   "cell_type": "code",
   "execution_count": 8,
   "id": "20adcafc",
   "metadata": {},
   "outputs": [
    {
     "name": "stdout",
     "output_type": "stream",
     "text": [
      "<class 'pandas.core.frame.DataFrame'>\n",
      "RangeIndex: 3081 entries, 0 to 3080\n",
      "Data columns (total 14 columns):\n",
      " #   Column        Non-Null Count  Dtype  \n",
      "---  ------        --------------  -----  \n",
      " 0   movie_id      3081 non-null   object \n",
      " 1   title         3081 non-null   object \n",
      " 2   year          3081 non-null   int64  \n",
      " 3   mpaa          3081 non-null   object \n",
      " 4   release_date  3081 non-null   object \n",
      " 5   run_time      3081 non-null   object \n",
      " 6   director      3081 non-null   object \n",
      " 7   main_actor_1  3081 non-null   object \n",
      " 8   main_actor_2  3081 non-null   object \n",
      " 9   main_actor_3  3081 non-null   object \n",
      " 10  main_actor_4  3079 non-null   object \n",
      " 11  budget        3081 non-null   float64\n",
      " 12  domestic      3070 non-null   float64\n",
      " 13  genre_1       3081 non-null   object \n",
      "dtypes: float64(2), int64(1), object(11)\n",
      "memory usage: 337.1+ KB\n"
     ]
    }
   ],
   "source": [
    "mojo_upd_df.info()"
   ]
  },
  {
   "cell_type": "code",
   "execution_count": 9,
   "id": "33643685",
   "metadata": {},
   "outputs": [],
   "source": [
    "mojo_upd_df = mojo_upd_df.loc[pd.notnull(mojo_upd_df[\"domestic\"])].reset_index(drop=True)"
   ]
  },
  {
   "cell_type": "code",
   "execution_count": 10,
   "id": "63bb06ed",
   "metadata": {},
   "outputs": [],
   "source": [
    "mojo_upd_df = mojo_upd_df.loc[pd.notnull(mojo_upd_df[\"main_actor_4\"])].reset_index(drop=True)"
   ]
  },
  {
   "cell_type": "code",
   "execution_count": 11,
   "id": "28a83fe4",
   "metadata": {},
   "outputs": [
    {
     "name": "stdout",
     "output_type": "stream",
     "text": [
      "<class 'pandas.core.frame.DataFrame'>\n",
      "RangeIndex: 3068 entries, 0 to 3067\n",
      "Data columns (total 14 columns):\n",
      " #   Column        Non-Null Count  Dtype  \n",
      "---  ------        --------------  -----  \n",
      " 0   movie_id      3068 non-null   object \n",
      " 1   title         3068 non-null   object \n",
      " 2   year          3068 non-null   int64  \n",
      " 3   mpaa          3068 non-null   object \n",
      " 4   release_date  3068 non-null   object \n",
      " 5   run_time      3068 non-null   object \n",
      " 6   director      3068 non-null   object \n",
      " 7   main_actor_1  3068 non-null   object \n",
      " 8   main_actor_2  3068 non-null   object \n",
      " 9   main_actor_3  3068 non-null   object \n",
      " 10  main_actor_4  3068 non-null   object \n",
      " 11  budget        3068 non-null   float64\n",
      " 12  domestic      3068 non-null   float64\n",
      " 13  genre_1       3068 non-null   object \n",
      "dtypes: float64(2), int64(1), object(11)\n",
      "memory usage: 335.7+ KB\n"
     ]
    }
   ],
   "source": [
    "mojo_upd_df.info()"
   ]
  },
  {
   "cell_type": "code",
   "execution_count": 12,
   "id": "f5d706cb",
   "metadata": {},
   "outputs": [
    {
     "data": {
      "text/html": [
       "<div>\n",
       "<style scoped>\n",
       "    .dataframe tbody tr th:only-of-type {\n",
       "        vertical-align: middle;\n",
       "    }\n",
       "\n",
       "    .dataframe tbody tr th {\n",
       "        vertical-align: top;\n",
       "    }\n",
       "\n",
       "    .dataframe thead th {\n",
       "        text-align: right;\n",
       "    }\n",
       "</style>\n",
       "<table border=\"1\" class=\"dataframe\">\n",
       "  <thead>\n",
       "    <tr style=\"text-align: right;\">\n",
       "      <th></th>\n",
       "      <th>movie_id</th>\n",
       "      <th>title</th>\n",
       "      <th>year</th>\n",
       "      <th>mpaa</th>\n",
       "      <th>release_date</th>\n",
       "      <th>run_time</th>\n",
       "      <th>director</th>\n",
       "      <th>main_actor_1</th>\n",
       "      <th>main_actor_2</th>\n",
       "      <th>main_actor_3</th>\n",
       "      <th>main_actor_4</th>\n",
       "      <th>budget</th>\n",
       "      <th>domestic</th>\n",
       "      <th>genre_1</th>\n",
       "    </tr>\n",
       "  </thead>\n",
       "  <tbody>\n",
       "    <tr>\n",
       "      <th>0</th>\n",
       "      <td>tt0099165</td>\n",
       "      <td>The Bonfire of the Vanities</td>\n",
       "      <td>1990</td>\n",
       "      <td>R</td>\n",
       "      <td>December 22</td>\n",
       "      <td>2 hr 5 min</td>\n",
       "      <td>Brian De Palma</td>\n",
       "      <td>Tom Hanks</td>\n",
       "      <td>Bruce Willis</td>\n",
       "      <td>Melanie Griffith</td>\n",
       "      <td>Kim Cattrall</td>\n",
       "      <td>47000000.0</td>\n",
       "      <td>15691192.0</td>\n",
       "      <td>Comedy</td>\n",
       "    </tr>\n",
       "    <tr>\n",
       "      <th>1</th>\n",
       "      <td>tt0099611</td>\n",
       "      <td>Frankenhooker</td>\n",
       "      <td>1990</td>\n",
       "      <td>R</td>\n",
       "      <td>June 1</td>\n",
       "      <td>1 hr 25 min</td>\n",
       "      <td>Frank Henenlotter</td>\n",
       "      <td>James Lorinz</td>\n",
       "      <td>Joanne Ritchie</td>\n",
       "      <td>Patty Mullen</td>\n",
       "      <td>J.J. Clark</td>\n",
       "      <td>2500000.0</td>\n",
       "      <td>205068.0</td>\n",
       "      <td>Comedy</td>\n",
       "    </tr>\n",
       "    <tr>\n",
       "      <th>2</th>\n",
       "      <td>tt0099674</td>\n",
       "      <td>The Godfather: Part III</td>\n",
       "      <td>1990</td>\n",
       "      <td>R</td>\n",
       "      <td>December 25</td>\n",
       "      <td>2 hr 42 min</td>\n",
       "      <td>Francis Ford Coppola</td>\n",
       "      <td>Al Pacino</td>\n",
       "      <td>Diane Keaton</td>\n",
       "      <td>Andy Garcia</td>\n",
       "      <td>Talia Shire</td>\n",
       "      <td>54000000.0</td>\n",
       "      <td>66666062.0</td>\n",
       "      <td>Crime</td>\n",
       "    </tr>\n",
       "    <tr>\n",
       "      <th>3</th>\n",
       "      <td>tt0099747</td>\n",
       "      <td>Havana</td>\n",
       "      <td>1990</td>\n",
       "      <td>R</td>\n",
       "      <td>December 14</td>\n",
       "      <td>2 hr 24 min</td>\n",
       "      <td>Sydney Pollack</td>\n",
       "      <td>Robert Redford</td>\n",
       "      <td>Lena Olin</td>\n",
       "      <td>Alan Arkin</td>\n",
       "      <td>Tomas Milian</td>\n",
       "      <td>40000000.0</td>\n",
       "      <td>9243140.0</td>\n",
       "      <td>Drama</td>\n",
       "    </tr>\n",
       "    <tr>\n",
       "      <th>4</th>\n",
       "      <td>tt0100029</td>\n",
       "      <td>Lionheart</td>\n",
       "      <td>1990</td>\n",
       "      <td>R</td>\n",
       "      <td>January 11</td>\n",
       "      <td>1 hr 48 min</td>\n",
       "      <td>Sheldon Lettich</td>\n",
       "      <td>Jean-Claude Van Damme</td>\n",
       "      <td>Harrison Page</td>\n",
       "      <td>Deborah Rennard</td>\n",
       "      <td>Lisa Pelikan</td>\n",
       "      <td>6000000.0</td>\n",
       "      <td>24078196.0</td>\n",
       "      <td>Action</td>\n",
       "    </tr>\n",
       "  </tbody>\n",
       "</table>\n",
       "</div>"
      ],
      "text/plain": [
       "    movie_id                        title  year mpaa release_date  \\\n",
       "0  tt0099165  The Bonfire of the Vanities  1990    R  December 22   \n",
       "1  tt0099611                Frankenhooker  1990    R       June 1   \n",
       "2  tt0099674      The Godfather: Part III  1990    R  December 25   \n",
       "3  tt0099747                       Havana  1990    R  December 14   \n",
       "4  tt0100029                    Lionheart  1990    R   January 11   \n",
       "\n",
       "      run_time              director           main_actor_1    main_actor_2  \\\n",
       "0   2 hr 5 min        Brian De Palma              Tom Hanks    Bruce Willis   \n",
       "1  1 hr 25 min     Frank Henenlotter           James Lorinz  Joanne Ritchie   \n",
       "2  2 hr 42 min  Francis Ford Coppola              Al Pacino    Diane Keaton   \n",
       "3  2 hr 24 min        Sydney Pollack         Robert Redford       Lena Olin   \n",
       "4  1 hr 48 min       Sheldon Lettich  Jean-Claude Van Damme   Harrison Page   \n",
       "\n",
       "       main_actor_3  main_actor_4      budget    domestic genre_1  \n",
       "0  Melanie Griffith  Kim Cattrall  47000000.0  15691192.0  Comedy  \n",
       "1      Patty Mullen    J.J. Clark   2500000.0    205068.0  Comedy  \n",
       "2       Andy Garcia   Talia Shire  54000000.0  66666062.0   Crime  \n",
       "3        Alan Arkin  Tomas Milian  40000000.0   9243140.0   Drama  \n",
       "4   Deborah Rennard  Lisa Pelikan   6000000.0  24078196.0  Action  "
      ]
     },
     "execution_count": 12,
     "metadata": {},
     "output_type": "execute_result"
    }
   ],
   "source": [
    "mojo_upd_df.head()"
   ]
  },
  {
   "cell_type": "code",
   "execution_count": 13,
   "id": "58cc0eaa",
   "metadata": {},
   "outputs": [
    {
     "data": {
      "text/plain": [
       "Index(['movie_id', 'title', 'year', 'mpaa', 'release_date', 'run_time',\n",
       "       'director', 'main_actor_1', 'main_actor_2', 'main_actor_3',\n",
       "       'main_actor_4', 'budget', 'domestic', 'genre_1'],\n",
       "      dtype='object')"
      ]
     },
     "execution_count": 13,
     "metadata": {},
     "output_type": "execute_result"
    }
   ],
   "source": [
    "mojo_upd_df.columns\n"
   ]
  },
  {
   "cell_type": "code",
   "execution_count": 14,
   "id": "b4643304",
   "metadata": {
    "scrolled": true
   },
   "outputs": [
    {
     "data": {
      "text/plain": [
       "1 hr 41 min    92\n",
       "1 hr 30 min    87\n",
       "1 hr 40 min    81\n",
       "1 hr 38 min    80\n",
       "1 hr 49 min    79\n",
       "1 hr 46 min    77\n",
       "1 hr 37 min    77\n",
       "1 hr 35 min    75\n",
       "1 hr 44 min    75\n",
       "1 hr 39 min    75\n",
       "1 hr 45 min    73\n",
       "1 hr 47 min    72\n",
       "1 hr 36 min    72\n",
       "1 hr 48 min    66\n",
       "1 hr 42 min    65\n",
       "1 hr 34 min    65\n",
       "1 hr 31 min    64\n",
       "1 hr 32 min    64\n",
       "1 hr 33 min    62\n",
       "1 hr 50 min    60\n",
       "1 hr 29 min    57\n",
       "1 hr 58 min    57\n",
       "1 hr 43 min    56\n",
       "1 hr 56 min    56\n",
       "1 hr 28 min    56\n",
       "1 hr 53 min    56\n",
       "1 hr 55 min    54\n",
       "1 hr 57 min    51\n",
       "1 hr 52 min    50\n",
       "1 hr 51 min    50\n",
       "2 hr 4 min     50\n",
       "2 hr 3 min     45\n",
       "1 hr 59 min    44\n",
       "2 hr 2 min     43\n",
       "1 hr 26 min    43\n",
       "2 hr           42\n",
       "1 hr 54 min    40\n",
       "1 hr 27 min    40\n",
       "2 hr 1 min     37\n",
       "2 hr 8 min     35\n",
       "2 hr 5 min     33\n",
       "2 hr 10 min    32\n",
       "2 hr 7 min     29\n",
       "1 hr 24 min    27\n",
       "2 hr 12 min    26\n",
       "2 hr 9 min     25\n",
       "2 hr 15 min    25\n",
       "1 hr 25 min    25\n",
       "2 hr 6 min     24\n",
       "2 hr 11 min    24\n",
       "1 hr 23 min    22\n",
       "2 hr 13 min    21\n",
       "1 hr 21 min    20\n",
       "2 hr 16 min    18\n",
       "2 hr 14 min    18\n",
       "2 hr 18 min    18\n",
       "2 hr 17 min    16\n",
       "2 hr 20 min    16\n",
       "2 hr 19 min    16\n",
       "2 hr 24 min    13\n",
       "2 hr 21 min    12\n",
       "2 hr 23 min    12\n",
       "1 hr 22 min    10\n",
       "2 hr 22 min     9\n",
       "2 hr 26 min     9\n",
       "2 hr 25 min     8\n",
       "2 hr 32 min     8\n",
       "2 hr 34 min     8\n",
       "1 hr 20 min     7\n",
       "2 hr 37 min     7\n",
       "2 hr 30 min     7\n",
       "2 hr 45 min     5\n",
       "2 hr 27 min     5\n",
       "2 hr 38 min     5\n",
       "2 hr 35 min     5\n",
       "2 hr 42 min     5\n",
       "2 hr 58 min     4\n",
       "2 hr 31 min     4\n",
       "2 hr 28 min     4\n",
       "2 hr 49 min     4\n",
       "2 hr 29 min     4\n",
       "1 hr 16 min     3\n",
       "1 hr 17 min     3\n",
       "2 hr 33 min     3\n",
       "1 hr 13 min     3\n",
       "2 hr 44 min     3\n",
       "1 hr 19 min     3\n",
       "2 hr 40 min     2\n",
       "2 hr 50 min     2\n",
       "3 hr 11 min     2\n",
       "3 hr            2\n",
       "2 hr 41 min     2\n",
       "2 hr 48 min     1\n",
       "2 hr 36 min     1\n",
       "1 hr 8 min      1\n",
       "2 hr 43 min     1\n",
       "2 hr 55 min     1\n",
       "2 hr 46 min     1\n",
       "1 hr 12 min     1\n",
       "3 hr 7 min      1\n",
       "3 hr 9 min      1\n",
       "3 hr 39 min     1\n",
       "2 hr 47 min     1\n",
       "3 hr 15 min     1\n",
       "1 hr 11 min     1\n",
       "3 hr 12 min     1\n",
       "4 hr 2 min      1\n",
       "1 hr 15 min     1\n",
       "2 hr 57 min     1\n",
       "3 hr 14 min     1\n",
       "2 hr 52 min     1\n",
       "2 hr 39 min     1\n",
       "1 hr 18 min     1\n",
       "1 hr 9 min      1\n",
       "3 hr 21 min     1\n",
       "2 hr 59 min     1\n",
       "3 hr 8 min      1\n",
       "3 hr 3 min      1\n",
       "3 hr 1 min      1\n",
       "Name: run_time, dtype: int64"
      ]
     },
     "execution_count": 14,
     "metadata": {},
     "output_type": "execute_result"
    }
   ],
   "source": [
    "mojo_upd_df.run_time.value_counts()"
   ]
  },
  {
   "cell_type": "code",
   "execution_count": 15,
   "id": "68e54a07",
   "metadata": {},
   "outputs": [],
   "source": [
    "#Convert run_time in to minutes\n",
    "times = []\n",
    "\n",
    "for index,row in mojo_upd_df.iterrows():\n",
    "    vals = row.run_time.split(\" \")\n",
    "    if len(vals)>2:\n",
    "        run_time = int(vals[0])*60 + int(vals[2])    \n",
    "    else:\n",
    "        run_time = int(vals[0])*60\n",
    "    times.append(run_time)\n",
    "\n",
    "mojo_upd_df[\"runtime_conv\"] = times    "
   ]
  },
  {
   "cell_type": "code",
   "execution_count": 16,
   "id": "c73b07c0",
   "metadata": {},
   "outputs": [
    {
     "data": {
      "text/plain": [
       "genre_1\n",
       "Action         112.985393\n",
       "Adventure      103.168459\n",
       "Animation       88.545455\n",
       "Biography      123.445714\n",
       "Comedy         102.736330\n",
       "Crime          113.814433\n",
       "Documentary     97.857143\n",
       "Drama          115.224280\n",
       "Family         118.000000\n",
       "Fantasy        103.500000\n",
       "Horror          97.880503\n",
       "Music           93.000000\n",
       "Mystery        118.222222\n",
       "Romance        106.000000\n",
       "Sci-Fi          96.333333\n",
       "Name: runtime_conv, dtype: float64"
      ]
     },
     "execution_count": 16,
     "metadata": {},
     "output_type": "execute_result"
    }
   ],
   "source": [
    "mojo_genre_runtime = mojo_upd_df.groupby(\"genre_1\").runtime_conv.mean()\n",
    "mojo_genre_runtime"
   ]
  },
  {
   "cell_type": "code",
   "execution_count": 17,
   "id": "7b66d051",
   "metadata": {},
   "outputs": [
    {
     "data": {
      "text/plain": [
       "Text(0, 0.5, 'Title Count')"
      ]
     },
     "execution_count": 17,
     "metadata": {},
     "output_type": "execute_result"
    },
    {
     "data": {
      "image/png": "[encoded data removed]",
      "text/plain": [
       "<Figure size 432x288 with 1 Axes>"
      ]
     },
     "metadata": {
      "needs_background": "light"
     },
     "output_type": "display_data"
    }
   ],
   "source": [
    "# using the visualization to display content rating vs movie title\n",
    "mojo_upd_df[['mpaa','title']].groupby('mpaa').count().plot(kind='bar', title='Content Rating Visualization')\n",
    "plt.xlabel('Content Rating')\n",
    "plt.ylabel('Title Count')"
   ]
  },
  {
   "cell_type": "code",
   "execution_count": 18,
   "id": "f0544204",
   "metadata": {
    "scrolled": true
   },
   "outputs": [
    {
     "data": {
      "text/html": [
       "<div>\n",
       "<style scoped>\n",
       "    .dataframe tbody tr th:only-of-type {\n",
       "        vertical-align: middle;\n",
       "    }\n",
       "\n",
       "    .dataframe tbody tr th {\n",
       "        vertical-align: top;\n",
       "    }\n",
       "\n",
       "    .dataframe thead th {\n",
       "        text-align: right;\n",
       "    }\n",
       "</style>\n",
       "<table border=\"1\" class=\"dataframe\">\n",
       "  <thead>\n",
       "    <tr style=\"text-align: right;\">\n",
       "      <th></th>\n",
       "      <th>movie_id</th>\n",
       "      <th>title</th>\n",
       "      <th>year</th>\n",
       "      <th>mpaa</th>\n",
       "      <th>release_date</th>\n",
       "      <th>run_time</th>\n",
       "      <th>director</th>\n",
       "      <th>main_actor_1</th>\n",
       "      <th>main_actor_2</th>\n",
       "      <th>main_actor_3</th>\n",
       "      <th>main_actor_4</th>\n",
       "      <th>budget</th>\n",
       "      <th>domestic</th>\n",
       "      <th>genre_1</th>\n",
       "      <th>runtime_conv</th>\n",
       "    </tr>\n",
       "  </thead>\n",
       "  <tbody>\n",
       "    <tr>\n",
       "      <th>0</th>\n",
       "      <td>tt0099165</td>\n",
       "      <td>The Bonfire of the Vanities</td>\n",
       "      <td>1990</td>\n",
       "      <td>R</td>\n",
       "      <td>December 22</td>\n",
       "      <td>2 hr 5 min</td>\n",
       "      <td>Brian De Palma</td>\n",
       "      <td>Tom Hanks</td>\n",
       "      <td>Bruce Willis</td>\n",
       "      <td>Melanie Griffith</td>\n",
       "      <td>Kim Cattrall</td>\n",
       "      <td>47000000.0</td>\n",
       "      <td>15691192.0</td>\n",
       "      <td>Comedy</td>\n",
       "      <td>125</td>\n",
       "    </tr>\n",
       "    <tr>\n",
       "      <th>1</th>\n",
       "      <td>tt0099611</td>\n",
       "      <td>Frankenhooker</td>\n",
       "      <td>1990</td>\n",
       "      <td>R</td>\n",
       "      <td>June 1</td>\n",
       "      <td>1 hr 25 min</td>\n",
       "      <td>Frank Henenlotter</td>\n",
       "      <td>James Lorinz</td>\n",
       "      <td>Joanne Ritchie</td>\n",
       "      <td>Patty Mullen</td>\n",
       "      <td>J.J. Clark</td>\n",
       "      <td>2500000.0</td>\n",
       "      <td>205068.0</td>\n",
       "      <td>Comedy</td>\n",
       "      <td>85</td>\n",
       "    </tr>\n",
       "    <tr>\n",
       "      <th>2</th>\n",
       "      <td>tt0099674</td>\n",
       "      <td>The Godfather: Part III</td>\n",
       "      <td>1990</td>\n",
       "      <td>R</td>\n",
       "      <td>December 25</td>\n",
       "      <td>2 hr 42 min</td>\n",
       "      <td>Francis Ford Coppola</td>\n",
       "      <td>Al Pacino</td>\n",
       "      <td>Diane Keaton</td>\n",
       "      <td>Andy Garcia</td>\n",
       "      <td>Talia Shire</td>\n",
       "      <td>54000000.0</td>\n",
       "      <td>66666062.0</td>\n",
       "      <td>Crime</td>\n",
       "      <td>162</td>\n",
       "    </tr>\n",
       "    <tr>\n",
       "      <th>3</th>\n",
       "      <td>tt0099747</td>\n",
       "      <td>Havana</td>\n",
       "      <td>1990</td>\n",
       "      <td>R</td>\n",
       "      <td>December 14</td>\n",
       "      <td>2 hr 24 min</td>\n",
       "      <td>Sydney Pollack</td>\n",
       "      <td>Robert Redford</td>\n",
       "      <td>Lena Olin</td>\n",
       "      <td>Alan Arkin</td>\n",
       "      <td>Tomas Milian</td>\n",
       "      <td>40000000.0</td>\n",
       "      <td>9243140.0</td>\n",
       "      <td>Drama</td>\n",
       "      <td>144</td>\n",
       "    </tr>\n",
       "    <tr>\n",
       "      <th>4</th>\n",
       "      <td>tt0100029</td>\n",
       "      <td>Lionheart</td>\n",
       "      <td>1990</td>\n",
       "      <td>R</td>\n",
       "      <td>January 11</td>\n",
       "      <td>1 hr 48 min</td>\n",
       "      <td>Sheldon Lettich</td>\n",
       "      <td>Jean-Claude Van Damme</td>\n",
       "      <td>Harrison Page</td>\n",
       "      <td>Deborah Rennard</td>\n",
       "      <td>Lisa Pelikan</td>\n",
       "      <td>6000000.0</td>\n",
       "      <td>24078196.0</td>\n",
       "      <td>Action</td>\n",
       "      <td>108</td>\n",
       "    </tr>\n",
       "  </tbody>\n",
       "</table>\n",
       "</div>"
      ],
      "text/plain": [
       "    movie_id                        title  year mpaa release_date  \\\n",
       "0  tt0099165  The Bonfire of the Vanities  1990    R  December 22   \n",
       "1  tt0099611                Frankenhooker  1990    R       June 1   \n",
       "2  tt0099674      The Godfather: Part III  1990    R  December 25   \n",
       "3  tt0099747                       Havana  1990    R  December 14   \n",
       "4  tt0100029                    Lionheart  1990    R   January 11   \n",
       "\n",
       "      run_time              director           main_actor_1    main_actor_2  \\\n",
       "0   2 hr 5 min        Brian De Palma              Tom Hanks    Bruce Willis   \n",
       "1  1 hr 25 min     Frank Henenlotter           James Lorinz  Joanne Ritchie   \n",
       "2  2 hr 42 min  Francis Ford Coppola              Al Pacino    Diane Keaton   \n",
       "3  2 hr 24 min        Sydney Pollack         Robert Redford       Lena Olin   \n",
       "4  1 hr 48 min       Sheldon Lettich  Jean-Claude Van Damme   Harrison Page   \n",
       "\n",
       "       main_actor_3  main_actor_4      budget    domestic genre_1  \\\n",
       "0  Melanie Griffith  Kim Cattrall  47000000.0  15691192.0  Comedy   \n",
       "1      Patty Mullen    J.J. Clark   2500000.0    205068.0  Comedy   \n",
       "2       Andy Garcia   Talia Shire  54000000.0  66666062.0   Crime   \n",
       "3        Alan Arkin  Tomas Milian  40000000.0   9243140.0   Drama   \n",
       "4   Deborah Rennard  Lisa Pelikan   6000000.0  24078196.0  Action   \n",
       "\n",
       "   runtime_conv  \n",
       "0           125  \n",
       "1            85  \n",
       "2           162  \n",
       "3           144  \n",
       "4           108  "
      ]
     },
     "execution_count": 18,
     "metadata": {},
     "output_type": "execute_result"
    }
   ],
   "source": [
    "mojo_upd_df.head()"
   ]
  },
  {
   "cell_type": "code",
   "execution_count": 19,
   "id": "65f2c30a",
   "metadata": {},
   "outputs": [
    {
     "data": {
      "text/plain": [
       "<AxesSubplot:title={'center':'runtime_conv'}, xlabel='mpaa'>"
      ]
     },
     "execution_count": 19,
     "metadata": {},
     "output_type": "execute_result"
    },
    {
     "data": {
      "image/png": "[encoded data removed]",
      "text/plain": [
       "<Figure size 432x288 with 1 Axes>"
      ]
     },
     "metadata": {
      "needs_background": "light"
     },
     "output_type": "display_data"
    }
   ],
   "source": [
    "# visualize the relationship between content rating and runtime\n",
    "mojo_upd_df.boxplot(column ='runtime_conv', by='mpaa')"
   ]
  },
  {
   "cell_type": "code",
   "execution_count": 20,
   "id": "bcc430a9",
   "metadata": {
    "scrolled": true
   },
   "outputs": [
    {
     "data": {
      "text/plain": [
       "genre_1\n",
       "Action         9.064102e+07\n",
       "Adventure      1.017076e+08\n",
       "Animation      1.102304e+08\n",
       "Biography      4.478447e+07\n",
       "Comedy         4.436525e+07\n",
       "Crime          3.593132e+07\n",
       "Documentary    1.774618e+07\n",
       "Drama          3.692123e+07\n",
       "Family         2.572131e+08\n",
       "Fantasy        5.501974e+07\n",
       "Horror         4.557892e+07\n",
       "Music          3.419967e+06\n",
       "Mystery        5.913286e+07\n",
       "Romance        6.249564e+07\n",
       "Sci-Fi         3.151592e+07\n",
       "Name: domestic, dtype: float64"
      ]
     },
     "execution_count": 20,
     "metadata": {},
     "output_type": "execute_result"
    }
   ],
   "source": [
    "mojo_genre_domestic = mojo_upd_df.groupby(\"genre_1\").domestic.mean()\n",
    "mojo_genre_domestic"
   ]
  },
  {
   "cell_type": "code",
   "execution_count": 21,
   "id": "5f976f18",
   "metadata": {},
   "outputs": [
    {
     "data": {
      "text/plain": [
       "Text(0.5, 1.0, 'Most Common Movie Genres')"
      ]
     },
     "execution_count": 21,
     "metadata": {},
     "output_type": "execute_result"
    },
    {
     "data": {
      "image/png": "[encoded data removed]",
      "text/plain": [
       "<Figure size 720x432 with 1 Axes>"
      ]
     },
     "metadata": {
      "needs_background": "light"
     },
     "output_type": "display_data"
    }
   ],
   "source": [
    "x = mojo_upd_df['genre_1']\n",
    "y = mojo_upd_df['runtime_conv']\n",
    "import matplotlib.pyplot as plt\n",
    "\n",
    "#create a figure with large width to display all genres clearly\n",
    "plt.figure(figsize = (10,6))\n",
    "#make a bar plot on the figure\n",
    "plt.barh(x, y)\n",
    "#label the axes, title, and ticks\n",
    "plt.xlabel('Run time')\n",
    "plt.ylabel('Genres')\n",
    "plt.title('Most Common Movie Genres')"
   ]
  },
  {
   "cell_type": "code",
   "execution_count": 22,
   "id": "dd6937c5",
   "metadata": {},
   "outputs": [
    {
     "data": {
      "text/html": [
       "<div>\n",
       "<style scoped>\n",
       "    .dataframe tbody tr th:only-of-type {\n",
       "        vertical-align: middle;\n",
       "    }\n",
       "\n",
       "    .dataframe tbody tr th {\n",
       "        vertical-align: top;\n",
       "    }\n",
       "\n",
       "    .dataframe thead th {\n",
       "        text-align: right;\n",
       "    }\n",
       "</style>\n",
       "<table border=\"1\" class=\"dataframe\">\n",
       "  <thead>\n",
       "    <tr style=\"text-align: right;\">\n",
       "      <th></th>\n",
       "      <th>movie_id</th>\n",
       "      <th>title</th>\n",
       "      <th>year</th>\n",
       "      <th>mpaa</th>\n",
       "      <th>release_date</th>\n",
       "      <th>run_time</th>\n",
       "      <th>director</th>\n",
       "      <th>main_actor_1</th>\n",
       "      <th>main_actor_2</th>\n",
       "      <th>main_actor_3</th>\n",
       "      <th>main_actor_4</th>\n",
       "      <th>budget</th>\n",
       "      <th>domestic</th>\n",
       "      <th>genre_1</th>\n",
       "      <th>runtime_conv</th>\n",
       "      <th>full_date</th>\n",
       "    </tr>\n",
       "  </thead>\n",
       "  <tbody>\n",
       "    <tr>\n",
       "      <th>0</th>\n",
       "      <td>tt0099165</td>\n",
       "      <td>The Bonfire of the Vanities</td>\n",
       "      <td>1990</td>\n",
       "      <td>R</td>\n",
       "      <td>December 22</td>\n",
       "      <td>2 hr 5 min</td>\n",
       "      <td>Brian De Palma</td>\n",
       "      <td>Tom Hanks</td>\n",
       "      <td>Bruce Willis</td>\n",
       "      <td>Melanie Griffith</td>\n",
       "      <td>Kim Cattrall</td>\n",
       "      <td>47000000.0</td>\n",
       "      <td>15691192.0</td>\n",
       "      <td>Comedy</td>\n",
       "      <td>125</td>\n",
       "      <td>1990-12-22</td>\n",
       "    </tr>\n",
       "    <tr>\n",
       "      <th>1</th>\n",
       "      <td>tt0099611</td>\n",
       "      <td>Frankenhooker</td>\n",
       "      <td>1990</td>\n",
       "      <td>R</td>\n",
       "      <td>June 1</td>\n",
       "      <td>1 hr 25 min</td>\n",
       "      <td>Frank Henenlotter</td>\n",
       "      <td>James Lorinz</td>\n",
       "      <td>Joanne Ritchie</td>\n",
       "      <td>Patty Mullen</td>\n",
       "      <td>J.J. Clark</td>\n",
       "      <td>2500000.0</td>\n",
       "      <td>205068.0</td>\n",
       "      <td>Comedy</td>\n",
       "      <td>85</td>\n",
       "      <td>1990-06-01</td>\n",
       "    </tr>\n",
       "    <tr>\n",
       "      <th>2</th>\n",
       "      <td>tt0099674</td>\n",
       "      <td>The Godfather: Part III</td>\n",
       "      <td>1990</td>\n",
       "      <td>R</td>\n",
       "      <td>December 25</td>\n",
       "      <td>2 hr 42 min</td>\n",
       "      <td>Francis Ford Coppola</td>\n",
       "      <td>Al Pacino</td>\n",
       "      <td>Diane Keaton</td>\n",
       "      <td>Andy Garcia</td>\n",
       "      <td>Talia Shire</td>\n",
       "      <td>54000000.0</td>\n",
       "      <td>66666062.0</td>\n",
       "      <td>Crime</td>\n",
       "      <td>162</td>\n",
       "      <td>1990-12-25</td>\n",
       "    </tr>\n",
       "    <tr>\n",
       "      <th>3</th>\n",
       "      <td>tt0099747</td>\n",
       "      <td>Havana</td>\n",
       "      <td>1990</td>\n",
       "      <td>R</td>\n",
       "      <td>December 14</td>\n",
       "      <td>2 hr 24 min</td>\n",
       "      <td>Sydney Pollack</td>\n",
       "      <td>Robert Redford</td>\n",
       "      <td>Lena Olin</td>\n",
       "      <td>Alan Arkin</td>\n",
       "      <td>Tomas Milian</td>\n",
       "      <td>40000000.0</td>\n",
       "      <td>9243140.0</td>\n",
       "      <td>Drama</td>\n",
       "      <td>144</td>\n",
       "      <td>1990-12-14</td>\n",
       "    </tr>\n",
       "    <tr>\n",
       "      <th>4</th>\n",
       "      <td>tt0100029</td>\n",
       "      <td>Lionheart</td>\n",
       "      <td>1990</td>\n",
       "      <td>R</td>\n",
       "      <td>January 11</td>\n",
       "      <td>1 hr 48 min</td>\n",
       "      <td>Sheldon Lettich</td>\n",
       "      <td>Jean-Claude Van Damme</td>\n",
       "      <td>Harrison Page</td>\n",
       "      <td>Deborah Rennard</td>\n",
       "      <td>Lisa Pelikan</td>\n",
       "      <td>6000000.0</td>\n",
       "      <td>24078196.0</td>\n",
       "      <td>Action</td>\n",
       "      <td>108</td>\n",
       "      <td>1990-01-11</td>\n",
       "    </tr>\n",
       "  </tbody>\n",
       "</table>\n",
       "</div>"
      ],
      "text/plain": [
       "    movie_id                        title  year mpaa release_date  \\\n",
       "0  tt0099165  The Bonfire of the Vanities  1990    R  December 22   \n",
       "1  tt0099611                Frankenhooker  1990    R       June 1   \n",
       "2  tt0099674      The Godfather: Part III  1990    R  December 25   \n",
       "3  tt0099747                       Havana  1990    R  December 14   \n",
       "4  tt0100029                    Lionheart  1990    R   January 11   \n",
       "\n",
       "      run_time              director           main_actor_1    main_actor_2  \\\n",
       "0   2 hr 5 min        Brian De Palma              Tom Hanks    Bruce Willis   \n",
       "1  1 hr 25 min     Frank Henenlotter           James Lorinz  Joanne Ritchie   \n",
       "2  2 hr 42 min  Francis Ford Coppola              Al Pacino    Diane Keaton   \n",
       "3  2 hr 24 min        Sydney Pollack         Robert Redford       Lena Olin   \n",
       "4  1 hr 48 min       Sheldon Lettich  Jean-Claude Van Damme   Harrison Page   \n",
       "\n",
       "       main_actor_3  main_actor_4      budget    domestic genre_1  \\\n",
       "0  Melanie Griffith  Kim Cattrall  47000000.0  15691192.0  Comedy   \n",
       "1      Patty Mullen    J.J. Clark   2500000.0    205068.0  Comedy   \n",
       "2       Andy Garcia   Talia Shire  54000000.0  66666062.0   Crime   \n",
       "3        Alan Arkin  Tomas Milian  40000000.0   9243140.0   Drama   \n",
       "4   Deborah Rennard  Lisa Pelikan   6000000.0  24078196.0  Action   \n",
       "\n",
       "   runtime_conv  full_date  \n",
       "0           125 1990-12-22  \n",
       "1            85 1990-06-01  \n",
       "2           162 1990-12-25  \n",
       "3           144 1990-12-14  \n",
       "4           108 1990-01-11  "
      ]
     },
     "execution_count": 22,
     "metadata": {},
     "output_type": "execute_result"
    }
   ],
   "source": [
    "#Combining release date and year\n",
    "\n",
    "# mojo_upd_df[\"full_date\"] = mojo_upd_df[\"release_date\"]+ str(mojo_upd_df[\"year\"])\n",
    "\n",
    "\n",
    "full_date = []\n",
    "\n",
    "for index,row in mojo_upd_df.iterrows():\n",
    "    vals = str(row[\"release_date\"]) + \" \" + str(row[\"year\"])\n",
    "    full_date.append(vals)\n",
    "\n",
    "mojo_upd_df[\"full_date\"] = full_date   \n",
    "mojo_upd_df[\"full_date\"] = pd.to_datetime(mojo_upd_df[\"full_date\"])                    \n",
    "mojo_upd_df.head()"
   ]
  },
  {
   "cell_type": "code",
   "execution_count": 23,
   "id": "da6e24dc",
   "metadata": {},
   "outputs": [
    {
     "name": "stdout",
     "output_type": "stream",
     "text": [
      "<class 'pandas.core.frame.DataFrame'>\n",
      "RangeIndex: 3068 entries, 0 to 3067\n",
      "Data columns (total 16 columns):\n",
      " #   Column        Non-Null Count  Dtype         \n",
      "---  ------        --------------  -----         \n",
      " 0   movie_id      3068 non-null   object        \n",
      " 1   title         3068 non-null   object        \n",
      " 2   year          3068 non-null   int64         \n",
      " 3   mpaa          3068 non-null   object        \n",
      " 4   release_date  3068 non-null   object        \n",
      " 5   run_time      3068 non-null   object        \n",
      " 6   director      3068 non-null   object        \n",
      " 7   main_actor_1  3068 non-null   object        \n",
      " 8   main_actor_2  3068 non-null   object        \n",
      " 9   main_actor_3  3068 non-null   object        \n",
      " 10  main_actor_4  3068 non-null   object        \n",
      " 11  budget        3068 non-null   float64       \n",
      " 12  domestic      3068 non-null   float64       \n",
      " 13  genre_1       3068 non-null   object        \n",
      " 14  runtime_conv  3068 non-null   int64         \n",
      " 15  full_date     3068 non-null   datetime64[ns]\n",
      "dtypes: datetime64[ns](1), float64(2), int64(2), object(11)\n",
      "memory usage: 383.6+ KB\n"
     ]
    }
   ],
   "source": [
    "mojo_upd_df.info()"
   ]
  },
  {
   "cell_type": "code",
   "execution_count": 24,
   "id": "fbab018b",
   "metadata": {},
   "outputs": [],
   "source": [
    "mojo_upd_df = mojo_upd_df.drop([\"run_time\",\"release_date\"],axis=1)"
   ]
  },
  {
   "cell_type": "code",
   "execution_count": 25,
   "id": "652ca7d0",
   "metadata": {},
   "outputs": [
    {
     "name": "stdout",
     "output_type": "stream",
     "text": [
      "<class 'pandas.core.frame.DataFrame'>\n",
      "RangeIndex: 3068 entries, 0 to 3067\n",
      "Data columns (total 14 columns):\n",
      " #   Column        Non-Null Count  Dtype         \n",
      "---  ------        --------------  -----         \n",
      " 0   movie_id      3068 non-null   object        \n",
      " 1   title         3068 non-null   object        \n",
      " 2   year          3068 non-null   int64         \n",
      " 3   mpaa          3068 non-null   object        \n",
      " 4   director      3068 non-null   object        \n",
      " 5   main_actor_1  3068 non-null   object        \n",
      " 6   main_actor_2  3068 non-null   object        \n",
      " 7   main_actor_3  3068 non-null   object        \n",
      " 8   main_actor_4  3068 non-null   object        \n",
      " 9   budget        3068 non-null   float64       \n",
      " 10  domestic      3068 non-null   float64       \n",
      " 11  genre_1       3068 non-null   object        \n",
      " 12  runtime_conv  3068 non-null   int64         \n",
      " 13  full_date     3068 non-null   datetime64[ns]\n",
      "dtypes: datetime64[ns](1), float64(2), int64(2), object(9)\n",
      "memory usage: 335.7+ KB\n"
     ]
    }
   ],
   "source": [
    "mojo_upd_df.info()"
   ]
  },
  {
   "cell_type": "code",
   "execution_count": 26,
   "id": "21508b8e",
   "metadata": {},
   "outputs": [
    {
     "data": {
      "text/plain": [
       "<AxesSubplot:xlabel='genre_1', ylabel='runtime_conv'>"
      ]
     },
     "execution_count": 26,
     "metadata": {},
     "output_type": "execute_result"
    },
    {
     "data": {
      "image/png": "[encoded data removed]",
      "text/plain": [
       "<Figure size 1152x432 with 1 Axes>"
      ]
     },
     "metadata": {
      "needs_background": "light"
     },
     "output_type": "display_data"
    }
   ],
   "source": [
    "plt.figure(figsize=(16,6))\n",
    "sns.lineplot(data=mojo_genre_runtime)"
   ]
  },
  {
   "cell_type": "code",
   "execution_count": 27,
   "id": "2517f689",
   "metadata": {},
   "outputs": [
    {
     "data": {
      "text/plain": [
       "Text(0, 0.5, 'Budget')"
      ]
     },
     "execution_count": 27,
     "metadata": {},
     "output_type": "execute_result"
    },
    {
     "data": {
      "image/png": "[encoded data removed]",
      "text/plain": [
       "<Figure size 1008x432 with 1 Axes>"
      ]
     },
     "metadata": {
      "needs_background": "light"
     },
     "output_type": "display_data"
    }
   ],
   "source": [
    "# Set the width and height of the figure\n",
    "plt.figure(figsize=(14,6))\n",
    "\n",
    "# Add title\n",
    "plt.title(\"Budget vs Year\")\n",
    "\n",
    "# Bar chart showing average arrival delay for Spirit Airlines flights by month\n",
    "sns.barplot(x=mojo_upd_df[\"year\"], y=mojo_upd_df[\"budget\"])\n",
    "\n",
    "# Add label for vertical axis\n",
    "plt.ylabel(\"Budget\")"
   ]
  },
  {
   "cell_type": "code",
   "execution_count": 28,
   "id": "919ddebc",
   "metadata": {},
   "outputs": [
    {
     "data": {
      "text/plain": [
       "<AxesSubplot:xlabel='domestic', ylabel='Count'>"
      ]
     },
     "execution_count": 28,
     "metadata": {},
     "output_type": "execute_result"
    },
    {
     "data": {
      "image/png": "[encoded data removed]",
      "text/plain": [
       "<Figure size 1008x432 with 1 Axes>"
      ]
     },
     "metadata": {
      "needs_background": "light"
     },
     "output_type": "display_data"
    }
   ],
   "source": [
    "# Histogram \n",
    "plt.figure(figsize=(14,6))\n",
    "sns.histplot(mojo_upd_df['domestic'])"
   ]
  },
  {
   "cell_type": "code",
   "execution_count": 29,
   "id": "bff4bc5f",
   "metadata": {},
   "outputs": [
    {
     "data": {
      "text/plain": [
       "<AxesSubplot:title={'center':'Unique values per feature'}>"
      ]
     },
     "execution_count": 29,
     "metadata": {},
     "output_type": "execute_result"
    },
    {
     "data": {
      "image/png": "[encoded data removed]",
      "text/plain": [
       "<Figure size 1080x288 with 1 Axes>"
      ]
     },
     "metadata": {
      "needs_background": "light"
     },
     "output_type": "display_data"
    }
   ],
   "source": [
    "unique_values = mojo_upd_df.select_dtypes(include=\"number\").nunique().sort_values()\n",
    "\n",
    "unique_values.plot.bar(logy=True,figsize=(15,4),title = \"Unique values per feature\")"
   ]
  },
  {
   "cell_type": "code",
   "execution_count": 30,
   "id": "fc9a8cb3",
   "metadata": {},
   "outputs": [
    {
     "name": "stderr",
     "output_type": "stream",
     "text": [
      "/opt/anaconda3/envs/PythonData/lib/python3.7/site-packages/seaborn/_decorators.py:43: FutureWarning: Pass the following variable as a keyword arg: x. From version 0.12, the only valid positional argument will be `data`, and passing other arguments without an explicit keyword will result in an error or misinterpretation.\n",
      "  FutureWarning\n"
     ]
    },
    {
     "data": {
      "text/plain": [
       "<AxesSubplot:xlabel='runtime_conv'>"
      ]
     },
     "execution_count": 30,
     "metadata": {},
     "output_type": "execute_result"
    },
    {
     "data": {
      "image/png": "[encoded data removed]",
      "text/plain": [
       "<Figure size 432x288 with 1 Axes>"
      ]
     },
     "metadata": {
      "needs_background": "light"
     },
     "output_type": "display_data"
    }
   ],
   "source": [
    "sns.boxplot(mojo_upd_df['runtime_conv'], palette='summer')"
   ]
  },
  {
   "cell_type": "code",
   "execution_count": 31,
   "id": "5cdcbe6a",
   "metadata": {
    "scrolled": false
   },
   "outputs": [
    {
     "data": {
      "text/plain": [
       "<AxesSubplot:xlabel='full_date', ylabel='Count'>"
      ]
     },
     "execution_count": 31,
     "metadata": {},
     "output_type": "execute_result"
    },
    {
     "data": {
      "image/png": "[encoded data removed]",
      "text/plain": [
       "<Figure size 1008x432 with 1 Axes>"
      ]
     },
     "metadata": {
      "needs_background": "light"
     },
     "output_type": "display_data"
    }
   ],
   "source": [
    "# Histogram \n",
    "plt.figure(figsize=(14,6))\n",
    "sns.histplot(mojo_upd_df['full_date'])"
   ]
  },
  {
   "cell_type": "code",
   "execution_count": 32,
   "id": "707b4cd4",
   "metadata": {},
   "outputs": [
    {
     "data": {
      "text/plain": [
       "<AxesSubplot:xlabel='genre_1', ylabel='Count'>"
      ]
     },
     "execution_count": 32,
     "metadata": {},
     "output_type": "execute_result"
    },
    {
     "data": {
      "image/png": "[encoded data removed]",
      "text/plain": [
       "<Figure size 1008x432 with 1 Axes>"
      ]
     },
     "metadata": {
      "needs_background": "light"
     },
     "output_type": "display_data"
    }
   ],
   "source": [
    "# Histogram \n",
    "\n",
    "plt.figure(figsize=(14,6))\n",
    "sns.histplot(mojo_upd_df['genre_1'])"
   ]
  },
  {
   "cell_type": "code",
   "execution_count": 33,
   "id": "97c2f61f",
   "metadata": {},
   "outputs": [
    {
     "data": {
      "text/html": [
       "<div>\n",
       "<style scoped>\n",
       "    .dataframe tbody tr th:only-of-type {\n",
       "        vertical-align: middle;\n",
       "    }\n",
       "\n",
       "    .dataframe tbody tr th {\n",
       "        vertical-align: top;\n",
       "    }\n",
       "\n",
       "    .dataframe thead th {\n",
       "        text-align: right;\n",
       "    }\n",
       "</style>\n",
       "<table border=\"1\" class=\"dataframe\">\n",
       "  <thead>\n",
       "    <tr style=\"text-align: right;\">\n",
       "      <th></th>\n",
       "      <th>year</th>\n",
       "      <th>budget</th>\n",
       "      <th>domestic</th>\n",
       "      <th>runtime_conv</th>\n",
       "    </tr>\n",
       "  </thead>\n",
       "  <tbody>\n",
       "    <tr>\n",
       "      <th>count</th>\n",
       "      <td>3068.000000</td>\n",
       "      <td>3.068000e+03</td>\n",
       "      <td>3.068000e+03</td>\n",
       "      <td>3068.000000</td>\n",
       "    </tr>\n",
       "    <tr>\n",
       "      <th>mean</th>\n",
       "      <td>2006.904824</td>\n",
       "      <td>4.727161e+07</td>\n",
       "      <td>6.192603e+07</td>\n",
       "      <td>109.282595</td>\n",
       "    </tr>\n",
       "    <tr>\n",
       "      <th>std</th>\n",
       "      <td>7.074530</td>\n",
       "      <td>4.740497e+07</td>\n",
       "      <td>8.047241e+07</td>\n",
       "      <td>18.465011</td>\n",
       "    </tr>\n",
       "    <tr>\n",
       "      <th>min</th>\n",
       "      <td>1990.000000</td>\n",
       "      <td>1.100000e+03</td>\n",
       "      <td>9.040000e+02</td>\n",
       "      <td>68.000000</td>\n",
       "    </tr>\n",
       "    <tr>\n",
       "      <th>25%</th>\n",
       "      <td>2001.000000</td>\n",
       "      <td>1.500000e+07</td>\n",
       "      <td>1.386308e+07</td>\n",
       "      <td>96.000000</td>\n",
       "    </tr>\n",
       "    <tr>\n",
       "      <th>50%</th>\n",
       "      <td>2007.000000</td>\n",
       "      <td>3.000000e+07</td>\n",
       "      <td>3.590826e+07</td>\n",
       "      <td>106.000000</td>\n",
       "    </tr>\n",
       "    <tr>\n",
       "      <th>75%</th>\n",
       "      <td>2013.000000</td>\n",
       "      <td>6.500000e+07</td>\n",
       "      <td>7.714734e+07</td>\n",
       "      <td>120.000000</td>\n",
       "    </tr>\n",
       "    <tr>\n",
       "      <th>max</th>\n",
       "      <td>2020.000000</td>\n",
       "      <td>3.560000e+08</td>\n",
       "      <td>9.366622e+08</td>\n",
       "      <td>242.000000</td>\n",
       "    </tr>\n",
       "  </tbody>\n",
       "</table>\n",
       "</div>"
      ],
      "text/plain": [
       "              year        budget      domestic  runtime_conv\n",
       "count  3068.000000  3.068000e+03  3.068000e+03   3068.000000\n",
       "mean   2006.904824  4.727161e+07  6.192603e+07    109.282595\n",
       "std       7.074530  4.740497e+07  8.047241e+07     18.465011\n",
       "min    1990.000000  1.100000e+03  9.040000e+02     68.000000\n",
       "25%    2001.000000  1.500000e+07  1.386308e+07     96.000000\n",
       "50%    2007.000000  3.000000e+07  3.590826e+07    106.000000\n",
       "75%    2013.000000  6.500000e+07  7.714734e+07    120.000000\n",
       "max    2020.000000  3.560000e+08  9.366622e+08    242.000000"
      ]
     },
     "execution_count": 33,
     "metadata": {},
     "output_type": "execute_result"
    }
   ],
   "source": [
    "mojo_upd_df.describe()"
   ]
  },
  {
   "cell_type": "code",
   "execution_count": 34,
   "id": "90db88f4",
   "metadata": {},
   "outputs": [
    {
     "data": {
      "text/plain": [
       "(3068, 14)"
      ]
     },
     "execution_count": 34,
     "metadata": {},
     "output_type": "execute_result"
    }
   ],
   "source": [
    "mojo_upd_df.shape"
   ]
  },
  {
   "cell_type": "code",
   "execution_count": 35,
   "id": "21278fb3",
   "metadata": {},
   "outputs": [
    {
     "data": {
      "text/plain": [
       "3047"
      ]
     },
     "execution_count": 35,
     "metadata": {},
     "output_type": "execute_result"
    }
   ],
   "source": [
    "mojo_upd_df['title'].nunique()"
   ]
  },
  {
   "cell_type": "code",
   "execution_count": 36,
   "id": "40bccc4b",
   "metadata": {},
   "outputs": [
    {
     "data": {
      "text/plain": [
       "array(['R', 'PG', 'PG-13', 'G', 'NC-17'], dtype=object)"
      ]
     },
     "execution_count": 36,
     "metadata": {},
     "output_type": "execute_result"
    }
   ],
   "source": [
    "unique = mojo_upd_df['mpaa'].unique()\n",
    "unique "
   ]
  },
  {
   "cell_type": "code",
   "execution_count": 37,
   "id": "1a71df69",
   "metadata": {},
   "outputs": [
    {
     "data": {
      "text/html": [
       "<div>\n",
       "<style scoped>\n",
       "    .dataframe tbody tr th:only-of-type {\n",
       "        vertical-align: middle;\n",
       "    }\n",
       "\n",
       "    .dataframe tbody tr th {\n",
       "        vertical-align: top;\n",
       "    }\n",
       "\n",
       "    .dataframe thead th {\n",
       "        text-align: right;\n",
       "    }\n",
       "</style>\n",
       "<table border=\"1\" class=\"dataframe\">\n",
       "  <thead>\n",
       "    <tr style=\"text-align: right;\">\n",
       "      <th></th>\n",
       "      <th>year</th>\n",
       "      <th>budget</th>\n",
       "      <th>domestic</th>\n",
       "      <th>runtime_conv</th>\n",
       "    </tr>\n",
       "  </thead>\n",
       "  <tbody>\n",
       "    <tr>\n",
       "      <th>year</th>\n",
       "      <td>1.000000</td>\n",
       "      <td>0.161643</td>\n",
       "      <td>0.162321</td>\n",
       "      <td>0.011313</td>\n",
       "    </tr>\n",
       "    <tr>\n",
       "      <th>budget</th>\n",
       "      <td>0.161643</td>\n",
       "      <td>1.000000</td>\n",
       "      <td>0.667288</td>\n",
       "      <td>0.358283</td>\n",
       "    </tr>\n",
       "    <tr>\n",
       "      <th>domestic</th>\n",
       "      <td>0.162321</td>\n",
       "      <td>0.667288</td>\n",
       "      <td>1.000000</td>\n",
       "      <td>0.298830</td>\n",
       "    </tr>\n",
       "    <tr>\n",
       "      <th>runtime_conv</th>\n",
       "      <td>0.011313</td>\n",
       "      <td>0.358283</td>\n",
       "      <td>0.298830</td>\n",
       "      <td>1.000000</td>\n",
       "    </tr>\n",
       "  </tbody>\n",
       "</table>\n",
       "</div>"
      ],
      "text/plain": [
       "                  year    budget  domestic  runtime_conv\n",
       "year          1.000000  0.161643  0.162321      0.011313\n",
       "budget        0.161643  1.000000  0.667288      0.358283\n",
       "domestic      0.162321  0.667288  1.000000      0.298830\n",
       "runtime_conv  0.011313  0.358283  0.298830      1.000000"
      ]
     },
     "execution_count": 37,
     "metadata": {},
     "output_type": "execute_result"
    }
   ],
   "source": [
    "mojo_upd_df.corr()"
   ]
  },
  {
   "cell_type": "code",
   "execution_count": 38,
   "id": "320fdccd",
   "metadata": {},
   "outputs": [
    {
     "data": {
      "image/png": "[encoded data removed]",
      "text/plain": [
       "<Figure size 720x432 with 2 Axes>"
      ]
     },
     "metadata": {
      "needs_background": "light"
     },
     "output_type": "display_data"
    }
   ],
   "source": [
    "plt.figure(figsize=(10,6))\n",
    "sns.heatmap(mojo_upd_df.corr())\n",
    "plt.show()"
   ]
  },
  {
   "cell_type": "code",
   "execution_count": 39,
   "id": "594354db",
   "metadata": {},
   "outputs": [
    {
     "data": {
      "image/png": "[encoded data removed]",
      "text/plain": [
       "<Figure size 720x432 with 1 Axes>"
      ]
     },
     "metadata": {
      "needs_background": "light"
     },
     "output_type": "display_data"
    }
   ],
   "source": [
    "plt.figure(figsize=(10,6))\n",
    "plt.hist(mojo_upd_df[\"budget\"])\n",
    "plt.show()"
   ]
  },
  {
   "cell_type": "code",
   "execution_count": 40,
   "id": "d954241b",
   "metadata": {},
   "outputs": [],
   "source": [
    "mojo_upd_df  = mojo_upd_df.drop([\"year\"],axis=1)"
   ]
  },
  {
   "cell_type": "code",
   "execution_count": 41,
   "id": "f0352dec",
   "metadata": {},
   "outputs": [
    {
     "name": "stdout",
     "output_type": "stream",
     "text": [
      "<class 'pandas.core.frame.DataFrame'>\n",
      "RangeIndex: 3068 entries, 0 to 3067\n",
      "Data columns (total 13 columns):\n",
      " #   Column        Non-Null Count  Dtype         \n",
      "---  ------        --------------  -----         \n",
      " 0   movie_id      3068 non-null   object        \n",
      " 1   title         3068 non-null   object        \n",
      " 2   mpaa          3068 non-null   object        \n",
      " 3   director      3068 non-null   object        \n",
      " 4   main_actor_1  3068 non-null   object        \n",
      " 5   main_actor_2  3068 non-null   object        \n",
      " 6   main_actor_3  3068 non-null   object        \n",
      " 7   main_actor_4  3068 non-null   object        \n",
      " 8   budget        3068 non-null   float64       \n",
      " 9   domestic      3068 non-null   float64       \n",
      " 10  genre_1       3068 non-null   object        \n",
      " 11  runtime_conv  3068 non-null   int64         \n",
      " 12  full_date     3068 non-null   datetime64[ns]\n",
      "dtypes: datetime64[ns](1), float64(2), int64(1), object(9)\n",
      "memory usage: 311.7+ KB\n"
     ]
    }
   ],
   "source": [
    "mojo_upd_df.info()"
   ]
  },
  {
   "cell_type": "code",
   "execution_count": 42,
   "id": "2a617b3c",
   "metadata": {},
   "outputs": [],
   "source": [
    "mojo_upd_df = mojo_upd_df.rename(columns = {'runtime_conv':'runtime','full_date':'release_date'})"
   ]
  },
  {
   "cell_type": "code",
   "execution_count": 43,
   "id": "76b55bc8",
   "metadata": {},
   "outputs": [
    {
     "name": "stdout",
     "output_type": "stream",
     "text": [
      "<class 'pandas.core.frame.DataFrame'>\n",
      "RangeIndex: 3068 entries, 0 to 3067\n",
      "Data columns (total 13 columns):\n",
      " #   Column        Non-Null Count  Dtype         \n",
      "---  ------        --------------  -----         \n",
      " 0   movie_id      3068 non-null   object        \n",
      " 1   title         3068 non-null   object        \n",
      " 2   mpaa          3068 non-null   object        \n",
      " 3   director      3068 non-null   object        \n",
      " 4   main_actor_1  3068 non-null   object        \n",
      " 5   main_actor_2  3068 non-null   object        \n",
      " 6   main_actor_3  3068 non-null   object        \n",
      " 7   main_actor_4  3068 non-null   object        \n",
      " 8   budget        3068 non-null   float64       \n",
      " 9   domestic      3068 non-null   float64       \n",
      " 10  genre_1       3068 non-null   object        \n",
      " 11  runtime       3068 non-null   int64         \n",
      " 12  release_date  3068 non-null   datetime64[ns]\n",
      "dtypes: datetime64[ns](1), float64(2), int64(1), object(9)\n",
      "memory usage: 311.7+ KB\n"
     ]
    }
   ],
   "source": [
    "mojo_upd_df.info()"
   ]
  },
  {
   "cell_type": "code",
   "execution_count": 44,
   "id": "336173e2",
   "metadata": {},
   "outputs": [],
   "source": [
    "mojo_upd_df.to_csv(\"../Resources/cleaned_mojo_budget_upd.csv\",index=False)"
   ]
  },
  {
   "cell_type": "code",
   "execution_count": 45,
   "id": "b5204d59",
   "metadata": {},
   "outputs": [],
   "source": [
    "#Input Mojo_budget_updata.csv file\n",
    "cleaned_mojo_upd_df = pd.read_csv('../Resources/cleaned_mojo_budget_upd.csv')"
   ]
  },
  {
   "cell_type": "code",
   "execution_count": 46,
   "id": "ebcc3ad0",
   "metadata": {},
   "outputs": [
    {
     "name": "stdout",
     "output_type": "stream",
     "text": [
      "<class 'pandas.core.frame.DataFrame'>\n",
      "RangeIndex: 3068 entries, 0 to 3067\n",
      "Data columns (total 13 columns):\n",
      " #   Column        Non-Null Count  Dtype  \n",
      "---  ------        --------------  -----  \n",
      " 0   movie_id      3068 non-null   object \n",
      " 1   title         3068 non-null   object \n",
      " 2   mpaa          3068 non-null   object \n",
      " 3   director      3068 non-null   object \n",
      " 4   main_actor_1  3068 non-null   object \n",
      " 5   main_actor_2  3068 non-null   object \n",
      " 6   main_actor_3  3068 non-null   object \n",
      " 7   main_actor_4  3068 non-null   object \n",
      " 8   budget        3068 non-null   float64\n",
      " 9   domestic      3068 non-null   float64\n",
      " 10  genre_1       3068 non-null   object \n",
      " 11  runtime       3068 non-null   int64  \n",
      " 12  release_date  3068 non-null   object \n",
      "dtypes: float64(2), int64(1), object(10)\n",
      "memory usage: 311.7+ KB\n"
     ]
    }
   ],
   "source": [
    "cleaned_mojo_upd_df.info()"
   ]
  },
  {
   "cell_type": "code",
   "execution_count": 47,
   "id": "a6c230f0",
   "metadata": {
    "scrolled": false
   },
   "outputs": [
    {
     "data": {
      "text/html": [
       "<div>\n",
       "<style scoped>\n",
       "    .dataframe tbody tr th:only-of-type {\n",
       "        vertical-align: middle;\n",
       "    }\n",
       "\n",
       "    .dataframe tbody tr th {\n",
       "        vertical-align: top;\n",
       "    }\n",
       "\n",
       "    .dataframe thead th {\n",
       "        text-align: right;\n",
       "    }\n",
       "</style>\n",
       "<table border=\"1\" class=\"dataframe\">\n",
       "  <thead>\n",
       "    <tr style=\"text-align: right;\">\n",
       "      <th></th>\n",
       "      <th>movie_id</th>\n",
       "      <th>title</th>\n",
       "      <th>mpaa</th>\n",
       "      <th>director</th>\n",
       "      <th>main_actor_1</th>\n",
       "      <th>main_actor_2</th>\n",
       "      <th>main_actor_3</th>\n",
       "      <th>main_actor_4</th>\n",
       "      <th>budget</th>\n",
       "      <th>domestic</th>\n",
       "      <th>genre_1</th>\n",
       "      <th>runtime</th>\n",
       "      <th>release_date</th>\n",
       "    </tr>\n",
       "  </thead>\n",
       "  <tbody>\n",
       "    <tr>\n",
       "      <th>0</th>\n",
       "      <td>tt0099165</td>\n",
       "      <td>The Bonfire of the Vanities</td>\n",
       "      <td>R</td>\n",
       "      <td>Brian De Palma</td>\n",
       "      <td>Tom Hanks</td>\n",
       "      <td>Bruce Willis</td>\n",
       "      <td>Melanie Griffith</td>\n",
       "      <td>Kim Cattrall</td>\n",
       "      <td>47000000.0</td>\n",
       "      <td>15691192.0</td>\n",
       "      <td>Comedy</td>\n",
       "      <td>125</td>\n",
       "      <td>1990-12-22</td>\n",
       "    </tr>\n",
       "    <tr>\n",
       "      <th>1</th>\n",
       "      <td>tt0099611</td>\n",
       "      <td>Frankenhooker</td>\n",
       "      <td>R</td>\n",
       "      <td>Frank Henenlotter</td>\n",
       "      <td>James Lorinz</td>\n",
       "      <td>Joanne Ritchie</td>\n",
       "      <td>Patty Mullen</td>\n",
       "      <td>J.J. Clark</td>\n",
       "      <td>2500000.0</td>\n",
       "      <td>205068.0</td>\n",
       "      <td>Comedy</td>\n",
       "      <td>85</td>\n",
       "      <td>1990-06-01</td>\n",
       "    </tr>\n",
       "    <tr>\n",
       "      <th>2</th>\n",
       "      <td>tt0099674</td>\n",
       "      <td>The Godfather: Part III</td>\n",
       "      <td>R</td>\n",
       "      <td>Francis Ford Coppola</td>\n",
       "      <td>Al Pacino</td>\n",
       "      <td>Diane Keaton</td>\n",
       "      <td>Andy Garcia</td>\n",
       "      <td>Talia Shire</td>\n",
       "      <td>54000000.0</td>\n",
       "      <td>66666062.0</td>\n",
       "      <td>Crime</td>\n",
       "      <td>162</td>\n",
       "      <td>1990-12-25</td>\n",
       "    </tr>\n",
       "    <tr>\n",
       "      <th>3</th>\n",
       "      <td>tt0099747</td>\n",
       "      <td>Havana</td>\n",
       "      <td>R</td>\n",
       "      <td>Sydney Pollack</td>\n",
       "      <td>Robert Redford</td>\n",
       "      <td>Lena Olin</td>\n",
       "      <td>Alan Arkin</td>\n",
       "      <td>Tomas Milian</td>\n",
       "      <td>40000000.0</td>\n",
       "      <td>9243140.0</td>\n",
       "      <td>Drama</td>\n",
       "      <td>144</td>\n",
       "      <td>1990-12-14</td>\n",
       "    </tr>\n",
       "    <tr>\n",
       "      <th>4</th>\n",
       "      <td>tt0100029</td>\n",
       "      <td>Lionheart</td>\n",
       "      <td>R</td>\n",
       "      <td>Sheldon Lettich</td>\n",
       "      <td>Jean-Claude Van Damme</td>\n",
       "      <td>Harrison Page</td>\n",
       "      <td>Deborah Rennard</td>\n",
       "      <td>Lisa Pelikan</td>\n",
       "      <td>6000000.0</td>\n",
       "      <td>24078196.0</td>\n",
       "      <td>Action</td>\n",
       "      <td>108</td>\n",
       "      <td>1990-01-11</td>\n",
       "    </tr>\n",
       "  </tbody>\n",
       "</table>\n",
       "</div>"
      ],
      "text/plain": [
       "    movie_id                        title mpaa              director  \\\n",
       "0  tt0099165  The Bonfire of the Vanities    R        Brian De Palma   \n",
       "1  tt0099611                Frankenhooker    R     Frank Henenlotter   \n",
       "2  tt0099674      The Godfather: Part III    R  Francis Ford Coppola   \n",
       "3  tt0099747                       Havana    R        Sydney Pollack   \n",
       "4  tt0100029                    Lionheart    R       Sheldon Lettich   \n",
       "\n",
       "            main_actor_1    main_actor_2      main_actor_3  main_actor_4  \\\n",
       "0              Tom Hanks    Bruce Willis  Melanie Griffith  Kim Cattrall   \n",
       "1           James Lorinz  Joanne Ritchie      Patty Mullen    J.J. Clark   \n",
       "2              Al Pacino    Diane Keaton       Andy Garcia   Talia Shire   \n",
       "3         Robert Redford       Lena Olin        Alan Arkin  Tomas Milian   \n",
       "4  Jean-Claude Van Damme   Harrison Page   Deborah Rennard  Lisa Pelikan   \n",
       "\n",
       "       budget    domestic genre_1  runtime release_date  \n",
       "0  47000000.0  15691192.0  Comedy      125   1990-12-22  \n",
       "1   2500000.0    205068.0  Comedy       85   1990-06-01  \n",
       "2  54000000.0  66666062.0   Crime      162   1990-12-25  \n",
       "3  40000000.0   9243140.0   Drama      144   1990-12-14  \n",
       "4   6000000.0  24078196.0  Action      108   1990-01-11  "
      ]
     },
     "execution_count": 47,
     "metadata": {},
     "output_type": "execute_result"
    }
   ],
   "source": [
    "cleaned_mojo_upd_df.head()"
   ]
  },
  {
   "cell_type": "code",
   "execution_count": null,
   "id": "234faf42",
   "metadata": {},
   "outputs": [],
   "source": []
  }
 ],
 "metadata": {
  "kernelspec": {
   "display_name": "PythonData",
   "language": "python",
   "name": "pythondata"
  },
  "language_info": {
   "codemirror_mode": {
    "name": "ipython",
    "version": 3
   },
   "file_extension": ".py",
   "mimetype": "text/x-python",
   "name": "python",
   "nbconvert_exporter": "python",
   "pygments_lexer": "ipython3",
   "version": "3.7.11"
  }
 },
 "nbformat": 4,
 "nbformat_minor": 5
}
