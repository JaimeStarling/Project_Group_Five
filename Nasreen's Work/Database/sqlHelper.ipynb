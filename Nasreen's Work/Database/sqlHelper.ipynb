{
 "cells": [
  {
   "cell_type": "code",
   "execution_count": 1,
   "id": "a18440b4",
   "metadata": {},
   "outputs": [],
   "source": [
    "import pandas as pd\n",
    "import datetime\n",
    "import time\n",
    "import pickle\n",
    "import numpy as np\n",
    "from sqlalchemy import create_engine, inspect\n",
    "\n",
    "class SQLHelper():\n",
    "    def __init__(self):\n",
    "        self.database_path = \"mojo_update.sqlite\"\n",
    "        self.conn_string = f\"sqlite:///{self.database_path}\"\n",
    "\n",
    "        # Create an engine that can talk to the database\n",
    "        self.engine = create_engine(self.conn_string)\n",
    "\n",
    "    def getDataFromDatabase(movie_title):\n",
    "\n",
    "        query = f\"\"\"\n",
    "    SELECT \n",
    "    m.title,\n",
    "    mp.mpaa,\n",
    "    m.main_actor_1,m.main_actor_2,m.budget,m.release_date,\n",
    "    d.director,\n",
    "    g.genre_1\n",
    "    FROM \n",
    "   movies_data as m\n",
    "    INNER JOIN mpaa_details as mp ON m.mpaa_id = mp.mpaa_id\n",
    "    INNER JOIN genre_details as g ON m.genre_id = g.genre_id\n",
    "    INNER JOIN director_details as d ON m.director_id = d.director_id\n",
    "    where m.title in ({movie_title});\n",
    "   \n",
    "    \"\"\"\n",
    "        print(query)\n",
    "\n",
    "        df = pd.read_sql(query, con=self.engine)\n",
    "\n",
    "        return df\n"
   ]
  },
  {
   "cell_type": "code",
   "execution_count": null,
   "id": "32919582",
   "metadata": {},
   "outputs": [],
   "source": []
  }
 ],
 "metadata": {
  "kernelspec": {
   "display_name": "mlenv",
   "language": "python",
   "name": "mlenv"
  },
  "language_info": {
   "codemirror_mode": {
    "name": "ipython",
    "version": 3
   },
   "file_extension": ".py",
   "mimetype": "text/x-python",
   "name": "python",
   "nbconvert_exporter": "python",
   "pygments_lexer": "ipython3",
   "version": "3.7.13"
  }
 },
 "nbformat": 4,
 "nbformat_minor": 5
}
